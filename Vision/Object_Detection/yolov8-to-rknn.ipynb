{
  "metadata": {
    "kernelspec": {
      "display_name": "Python 3",
      "name": "python3"
    },
    "language_info": {
      "name": "python",
      "version": "3.10.12",
      "mimetype": "text/x-python",
      "codemirror_mode": {
        "name": "ipython",
        "version": 3
      },
      "pygments_lexer": "ipython3",
      "nbconvert_exporter": "python",
      "file_extension": ".py"
    },
    "kaggle": {
      "accelerator": "nvidiaTeslaT4",
      "dataSources": [],
      "isInternetEnabled": true,
      "language": "python",
      "sourceType": "notebook",
      "isGpuEnabled": true
    },
    "colab": {
      "provenance": [],
      "gpuType": "T4",
      "include_colab_link": true
    },
    "accelerator": "GPU"
  },
  "nbformat_minor": 0,
  "nbformat": 4,
  "cells": [
    {
      "cell_type": "markdown",
      "metadata": {
        "id": "view-in-github",
        "colab_type": "text"
      },
      "source": [
        "<a href=\"https://colab.research.google.com/github/HighlandersFRC/2025-Robot/blob/Champs/Vision/Object_Detection/yolov8-to-rknn.ipynb\" target=\"_parent\"><img src=\"https://colab.research.google.com/assets/colab-badge.svg\" alt=\"Open In Colab\"/></a>"
      ]
    },
    {
      "cell_type": "markdown",
      "source": [
        "# YOLOv8 Training and Conversion to RKNN - Team 5990 TRIGON\n",
        "<img src =\"https://avatars.githubusercontent.com/u/45858082?s=280&v=4\" />"
      ],
      "metadata": {
        "id": "B-bEwnl4K34-"
      }
    },
    {
      "cell_type": "code",
      "source": [
        "#Run until it gets to training\n",
        "%cd {root_path}\n",
        "import os\n",
        "root_path = os.getcwd()\n",
        "\n",
        "!git clone https://github.com/airockchip/ultralytics_yolov8 ultralytics\n",
        "%cd ultralytics\n",
        "!git checkout 5b7ddd8f821c8f6edb389aa30cfbc88bd903867b\n",
        "\n",
        "!pip install -e .\n",
        "\n",
        "from IPython import display\n",
        "display.clear_output()\n",
        "\n",
        "import ultralytics\n",
        "ultralytics.checks()"
      ],
      "metadata": {
        "_uuid": "8f2839f25d086af736a60e9eeb907d3b93b6e0e5",
        "_cell_guid": "b1076dfc-b9ad-4769-8c92-a6c4dae69d19",
        "trusted": true,
        "colab": {
          "base_uri": "https://localhost:8080/"
        },
        "id": "KK2OEgCMK35A",
        "outputId": "edd9deaa-351f-4101-8a79-513d2002b54a"
      },
      "execution_count": 1,
      "outputs": [
        {
          "output_type": "stream",
          "name": "stderr",
          "text": [
            "Ultralytics YOLOv8.0.151 🚀 Python-3.11.11 torch-2.6.0+cu124 CUDA:0 (Tesla T4, 15095MiB)\n",
            "Setup complete ✅ (2 CPUs, 12.7 GB RAM, 40.9/112.6 GB disk)\n"
          ]
        }
      ]
    },
    {
      "cell_type": "markdown",
      "source": [
        "## Downloading the dataset\n",
        "Input your Roboflow API key below. It can be obtained [here](https://app.roboflow.com/settings/api).\n",
        "You can use your own dataset, the rest of the notebook should work with any number of classes, as long as the project is of \"object detection\" type."
      ],
      "metadata": {
        "id": "Qtf8YzfhK35D"
      }
    },
    {
      "cell_type": "code",
      "source": [
        "from google.colab import drive\n",
        "\n",
        "# Mount Google Drive\n",
        "drive.mount('/content/drive')\n",
        "import shutil\n",
        "\n",
        "# Path to the file in Google Drive\n",
        "drive_file_path = '/content/drive/My Drive/dataya.zip'\n",
        "\n",
        "# Path to the destination in Colab\n",
        "colab_file_path = '/content'\n",
        "\n",
        "# Copy file from Google Drive to Colab environment\n",
        "shutil.copy(drive_file_path, colab_file_path)\n",
        "\n",
        "# Verify that the file is copied\n",
        "print(f\"File downloaded to Colab environment: {colab_file_path}\")\n"
      ],
      "metadata": {
        "trusted": true,
        "colab": {
          "base_uri": "https://localhost:8080/"
        },
        "id": "B1mvI5MVK35D",
        "outputId": "305366db-d6d5-4279-84a3-177c347cc2c5"
      },
      "execution_count": 3,
      "outputs": [
        {
          "output_type": "stream",
          "name": "stdout",
          "text": [
            "Drive already mounted at /content/drive; to attempt to forcibly remount, call drive.mount(\"/content/drive\", force_remount=True).\n",
            "File downloaded to Colab environment: /content\n"
          ]
        }
      ]
    },
    {
      "cell_type": "code",
      "source": [
        "import zipfile\n",
        "\n",
        "# Path to your ZIP file in the Colab environment\n",
        "zip_file_path = '/content/dataya.zip'\n",
        "\n",
        "# Path to extract the files to\n",
        "extracted_folder_path = '/content'\n",
        "\n",
        "# Unzipping the file\n",
        "with zipfile.ZipFile(zip_file_path, 'r') as zip_ref:\n",
        "    zip_ref.extractall(extracted_folder_path)\n",
        "\n",
        "print(f\"Files extracted to {extracted_folder_path}\")\n"
      ],
      "metadata": {
        "id": "XvNXDJLORCmz",
        "outputId": "c8f0f8d2-4d32-4505-dd66-f0718ff84709",
        "colab": {
          "base_uri": "https://localhost:8080/"
        }
      },
      "execution_count": 4,
      "outputs": [
        {
          "output_type": "stream",
          "name": "stdout",
          "text": [
            "Files extracted to /content\n"
          ]
        }
      ]
    },
    {
      "cell_type": "code",
      "source": [
        "import os\n",
        "import re\n",
        "from IPython.core.magic import register_line_cell_magic\n",
        "\n",
        "@register_line_cell_magic\n",
        "def writetemplate(line, cell):\n",
        "    with open(line, 'w') as f:\n",
        "        f.write(cell.format(**globals()))\n",
        "        print(\"Wrote successfully to \" + line)\n",
        "\n",
        "@register_line_cell_magic\n",
        "def replaceAllInFile(line, cell):\n",
        "    filename = line.strip()\n",
        "    replacements = eval(cell)  # Assuming input is a valid Python expression\n",
        "    with open(filename, 'r') as f:\n",
        "        file_content = f.read()\n",
        "    for replaced, with_this in replacements:\n",
        "        file_content = re.sub(replaced, with_this, file_content)\n",
        "    with open(filename, 'w') as f:\n",
        "        f.write(file_content)\n",
        "    print(f\"Replaced successfully in {filename}\")"
      ],
      "metadata": {
        "trusted": true,
        "id": "U-FeE0h7K35E"
      },
      "execution_count": 8,
      "outputs": []
    },
    {
      "cell_type": "code",
      "source": [
        "%cat {dataset.location}/data.yaml"
      ],
      "metadata": {
        "trusted": true,
        "id": "Dj9_KTJSK35F",
        "outputId": "e0fa5c71-1ce9-4a13-b8b7-7eae43635778",
        "colab": {
          "base_uri": "https://localhost:8080/"
        }
      },
      "execution_count": 13,
      "outputs": [
        {
          "output_type": "stream",
          "name": "stdout",
          "text": [
            "cat: {dataset.location}/data.yaml: No such file or directory\n"
          ]
        }
      ]
    },
    {
      "cell_type": "markdown",
      "source": [
        "#### This is needed because the default format of the directories in roboflow datasets is kinda broken:"
      ],
      "metadata": {
        "id": "syEHoORyK35G"
      }
    },
    {
      "cell_type": "code",
      "source": [
        "#New update fixes\n",
        "import os\n",
        "\n",
        "# Define paths\n",
        "dataset_location = \"/content/Reefscape FRC.v5i.yolov8\"  # Update if your path is different\n",
        "data_yaml_path = os.path.join(dataset_location, \"data.yaml\")\n",
        "\n",
        "# Ensure the file exists before proceeding\n",
        "if not os.path.exists(data_yaml_path):\n",
        "    raise FileNotFoundError(f\"File not found: {data_yaml_path}\")\n",
        "\n",
        "# Read the YAML file\n",
        "with open(data_yaml_path, \"r\") as file:\n",
        "    content = file.read()\n",
        "\n",
        "# Define replacements\n",
        "content = content.replace(\"test: ..\", f\"test: {dataset_location}/test\")\n",
        "content = content.replace(\"train: \", f\"train: {dataset_location}/train\")\n",
        "content = content.replace(\"val: \", f\"val: {dataset_location}/valid\")  # Assuming \"valid\" is for validation\n",
        "\n",
        "# Write the changes back to the file\n",
        "with open(data_yaml_path, \"w\") as file:\n",
        "    file.write(content)\n",
        "\n",
        "print(\"data.yaml updated successfully!\")\n"
      ],
      "metadata": {
        "trusted": true,
        "colab": {
          "base_uri": "https://localhost:8080/"
        },
        "id": "s_LOMjcNK35G",
        "outputId": "e8a22400-466a-4f55-e590-2f7ad2c88338"
      },
      "execution_count": 14,
      "outputs": [
        {
          "output_type": "stream",
          "name": "stdout",
          "text": [
            "data.yaml updated successfully!\n"
          ]
        }
      ]
    },
    {
      "cell_type": "code",
      "source": [
        "import yaml\n",
        "\n",
        "# Load the YAML file and extract the number of classes\n",
        "yaml_file_path = \"/content/Reefscape FRC.v5i.yolov8/data.yaml\"\n",
        "\n",
        "with open(yaml_file_path, 'r') as stream:\n",
        "    data = yaml.safe_load(stream)\n",
        "    num_classes = data['nc']  # This should be an integer\n",
        "    print(f\"num_classes: {num_classes}\")\n"
      ],
      "metadata": {
        "trusted": true,
        "colab": {
          "base_uri": "https://localhost:8080/"
        },
        "id": "vVgn9bFJK35H",
        "outputId": "a6d0e81b-c769-4e77-c066-ed1b9e81a6dd"
      },
      "execution_count": 22,
      "outputs": [
        {
          "output_type": "stream",
          "name": "stdout",
          "text": [
            "num_classes: 3\n"
          ]
        }
      ]
    },
    {
      "cell_type": "code",
      "source": [
        "%%writetemplate custom_yolov8.yaml\n",
        "# Ultralytics YOLO 🚀, AGPL-3.0 license\n",
        "# YOLOv8 object detection model with P3-P5 outputs. For Usage examples see https://docs.ultralytics.com/tasks/detect\n",
        "\n",
        "# Parameters\n",
        "nc: {num_classes}  # number of classes\n",
        "scales: # model compound scaling constants, i.e. 'model=yolov8n.yaml' will call yolov8.yaml with scale 'n'\n",
        "  # [depth, width, max_channels]\n",
        "  n: [0.33, 0.25, 1024]  # YOLOv8n summary: 225 layers,  3157200 parameters,  3157184 gradients,   8.9 GFLOPs\n",
        "  s: [0.33, 0.50, 1024]  # YOLOv8s summary: 225 layers, 11166560 parameters, 11166544 gradients,  28.8 GFLOPs\n",
        "  m: [0.67, 0.75, 768]   # YOLOv8m summary: 295 layers, 25902640 parameters, 25902624 gradients,  79.3 GFLOPs\n",
        "  l: [1.00, 1.00, 512]   # YOLOv8l summary: 365 layers, 43691520 parameters, 43691504 gradients, 165.7 GFLOPs\n",
        "  x: [1.00, 1.25, 512]   # YOLOv8x summary: 365 layers, 68229648 parameters, 68229632 gradients, 258.5 GFLOPs\n",
        "activation: nn.ReLU()\n",
        "# YOLOv8.0n backbone\n",
        "backbone:\n",
        "  # [from, repeats, module, args]\n",
        "  - [-1, 1, Conv, [64, 3, 2]]  # 0-P1/2\n",
        "  - [-1, 1, Conv, [128, 3, 2]]  # 1-P2/4\n",
        "  - [-1, 3, C2f, [128, True]]\n",
        "  - [-1, 1, Conv, [256, 3, 2]]  # 3-P3/8\n",
        "  - [-1, 6, C2f, [256, True]]\n",
        "  - [-1, 1, Conv, [512, 3, 2]]  # 5-P4/16\n",
        "  - [-1, 6, C2f, [512, True]]\n",
        "  - [-1, 1, Conv, [1024, 3, 2]]  # 7-P5/32\n",
        "  - [-1, 3, C2f, [1024, True]]\n",
        "  - [-1, 1, SPPF, [1024, 5]]  # 9\n",
        "\n",
        "# YOLOv8.0n head\n",
        "head:\n",
        "  - [-1, 1, nn.Upsample, [None, 2, 'nearest']]\n",
        "  - [[-1, 6], 1, Concat, [1]]  # cat backbone P4\n",
        "  - [-1, 3, C2f, [512]]  # 12\n",
        "\n",
        "  - [-1, 1, nn.Upsample, [None, 2, 'nearest']]\n",
        "  - [[-1, 4], 1, Concat, [1]]  # cat backbone P3\n",
        "  - [-1, 3, C2f, [256]]  # 15 (P3/8-small)\n",
        "\n",
        "  - [-1, 1, Conv, [256, 3, 2]]\n",
        "  - [[-1, 12], 1, Concat, [1]]  # cat head P4\n",
        "  - [-1, 3, C2f, [512]]  # 18 (P4/16-medium)\n",
        "\n",
        "  - [-1, 1, Conv, [512, 3, 2]]\n",
        "  - [[-1, 9], 1, Concat, [1]]  # cat head P5\n",
        "  - [-1, 3, C2f, [1024]]  # 21 (P5/32-large)\n",
        "\n",
        "  - [[15, 18, 21], 1, Detect, [nc]]  # Detect(P3, P4, P5)"
      ],
      "metadata": {
        "colab": {
          "base_uri": "https://localhost:8080/"
        },
        "id": "EpqOmEV9K35H",
        "outputId": "ad43bf34-c0aa-4b97-c9e5-63014ac5c804"
      },
      "execution_count": 27,
      "outputs": [
        {
          "output_type": "stream",
          "name": "stdout",
          "text": [
            "Wrote successfully to custom_yolov8.yaml\n"
          ]
        }
      ]
    },
    {
      "cell_type": "markdown",
      "source": [
        "## Training\n",
        "You can adjust the following settings:\n",
        "- model: one of [yolov8n, yolov8s, yolov8m, yolov8l, yolov8x]\n",
        "- image_size: The input size of the images fed to the model. Should be a multiple of 32.\n",
        "- batch: Number of samples per epoch. You should set this to the highest number possible without the training taking too much memory (it would crash if that happens, which is ok, just lower the number and try again)\n",
        "- epochs: How many iterations to train for\n",
        "- patience: After how many epochs without improvement to stop the training"
      ],
      "metadata": {
        "id": "xgAWJwpjK35I"
      }
    },
    {
      "cell_type": "code",
      "source": [
        "#Skip this whole section till you get to conversion\n",
        "%cd {root_path}/ultralytics\n",
        "model = \"yolov8n\"\n",
        "image_size = 640\n",
        "!yolo batch=192 epochs=700 patience=50 device=0 cache=ram task=detect mode=train model=./custom_{model}.yaml data={dataset.location}/data.yaml imgsz={image_size} plots=False pretrained=False single_cls={num_classes == '1'}"
      ],
      "metadata": {
        "trusted": true,
        "id": "ti7sddQvK35J"
      },
      "execution_count": null,
      "outputs": []
    },
    {
      "cell_type": "code",
      "source": [
        "latest_modified_time = 0\n",
        "latest = None\n",
        "\n",
        "for foldername, subfolders, filenames in os.walk(root_path):\n",
        "    for filename in filenames:\n",
        "        if filename == \"best.pt\":\n",
        "            file_path = os.path.join(foldername, filename)\n",
        "            modified_time = os.path.getmtime(file_path)\n",
        "            if modified_time > latest_modified_time:\n",
        "                latest_modified_time = modified_time\n",
        "                latest = file_path\n",
        "print(latest)"
      ],
      "metadata": {
        "trusted": true,
        "id": "9SD7mDpVK35K"
      },
      "execution_count": null,
      "outputs": []
    },
    {
      "cell_type": "markdown",
      "source": [
        "## Exporting to ONNX\n",
        "This is an intermediate step between the PyTorch model and the RKNN model."
      ],
      "metadata": {
        "id": "pioC8-5WK35K"
      }
    },
    {
      "cell_type": "code",
      "source": [
        "%cd {root_path}/ultralytics\n",
        "!yolo mode=export format=rknn model={latest}"
      ],
      "metadata": {
        "trusted": true,
        "id": "ko2FyiD2K35L"
      },
      "execution_count": null,
      "outputs": []
    },
    {
      "cell_type": "code",
      "source": [
        "ex_path = '.'.join(latest.split('.')[:-1]) + '.onnx'\n",
        "print(ex_path)"
      ],
      "metadata": {
        "trusted": true,
        "id": "Ol6ZGdcYK35M"
      },
      "execution_count": null,
      "outputs": []
    },
    {
      "cell_type": "markdown",
      "source": [
        "### Installing RKNN Toolkit 2"
      ],
      "metadata": {
        "id": "S4ic0bprK35M"
      }
    },
    {
      "cell_type": "code",
      "source": [
        "#Start again collab tends to mess things up here if you are not using it to train aka orin Follow comments to resolve all errors\n",
        "!wget https://github.com/rockchip-linux/rknn-toolkit2/raw/2c2d03def0c0908c86985b8190e973976ecec74c/rknn-toolkit2/packages/rknn_toolkit2-1.6.0+81f21f4d-cp310-cp310-linux_x86_64.whl\n",
        "!pip install ./rknn_toolkit2-1.6.0+81f21f4d-cp310-cp310-linux_x86_64.whl"
      ],
      "metadata": {
        "trusted": true,
        "colab": {
          "base_uri": "https://localhost:8080/"
        },
        "id": "AVZ_JT5OK35N",
        "outputId": "659b282a-35b8-4c6f-b7a0-fa2d33aed02a"
      },
      "execution_count": 28,
      "outputs": [
        {
          "output_type": "stream",
          "name": "stdout",
          "text": [
            "--2025-03-28 01:19:36--  https://github.com/rockchip-linux/rknn-toolkit2/raw/2c2d03def0c0908c86985b8190e973976ecec74c/rknn-toolkit2/packages/rknn_toolkit2-1.6.0+81f21f4d-cp310-cp310-linux_x86_64.whl\n",
            "Resolving github.com (github.com)... 20.205.243.166\n",
            "Connecting to github.com (github.com)|20.205.243.166|:443... connected.\n",
            "HTTP request sent, awaiting response... 302 Found\n",
            "Location: https://raw.githubusercontent.com/rockchip-linux/rknn-toolkit2/2c2d03def0c0908c86985b8190e973976ecec74c/rknn-toolkit2/packages/rknn_toolkit2-1.6.0%2B81f21f4d-cp310-cp310-linux_x86_64.whl [following]\n",
            "--2025-03-28 01:19:36--  https://raw.githubusercontent.com/rockchip-linux/rknn-toolkit2/2c2d03def0c0908c86985b8190e973976ecec74c/rknn-toolkit2/packages/rknn_toolkit2-1.6.0%2B81f21f4d-cp310-cp310-linux_x86_64.whl\n",
            "Resolving raw.githubusercontent.com (raw.githubusercontent.com)... 185.199.108.133, 185.199.109.133, 185.199.110.133, ...\n",
            "Connecting to raw.githubusercontent.com (raw.githubusercontent.com)|185.199.108.133|:443... connected.\n",
            "HTTP request sent, awaiting response... 200 OK\n",
            "Length: 38656464 (37M) [application/octet-stream]\n",
            "Saving to: ‘rknn_toolkit2-1.6.0+81f21f4d-cp310-cp310-linux_x86_64.whl’\n",
            "\n",
            "rknn_toolkit2-1.6.0 100%[===================>]  36.87M  --.-KB/s    in 0.1s    \n",
            "\n",
            "2025-03-28 01:19:40 (383 MB/s) - ‘rknn_toolkit2-1.6.0+81f21f4d-cp310-cp310-linux_x86_64.whl’ saved [38656464/38656464]\n",
            "\n",
            "\u001b[31mERROR: rknn_toolkit2-1.6.0+81f21f4d-cp310-cp310-linux_x86_64.whl is not a supported wheel on this platform.\u001b[0m\u001b[31m\n",
            "\u001b[0m"
          ]
        }
      ]
    },
    {
      "cell_type": "code",
      "source": [
        "%cd {root_path}\n",
        "!git clone https://github.com/airockchip/rknn_model_zoo/\n",
        "%cd rknn_model_zoo\n",
        "!git checkout eaa94d6f57ca553d493bf3bd7399a070452d2774\n",
        "%cd examples/yolov8/python"
      ],
      "metadata": {
        "trusted": true,
        "colab": {
          "base_uri": "https://localhost:8080/"
        },
        "id": "IvOevLMGK35N",
        "outputId": "0413cfdc-9b6c-4c34-b22c-6156d2db4666"
      },
      "execution_count": 29,
      "outputs": [
        {
          "output_type": "stream",
          "name": "stdout",
          "text": [
            "/content\n",
            "Cloning into 'rknn_model_zoo'...\n",
            "remote: Enumerating objects: 3049, done.\u001b[K\n",
            "remote: Counting objects: 100% (527/527), done.\u001b[K\n",
            "remote: Compressing objects: 100% (173/173), done.\u001b[K\n",
            "remote: Total 3049 (delta 418), reused 359 (delta 354), pack-reused 2522 (from 2)\u001b[K\n",
            "Receiving objects: 100% (3049/3049), 278.53 MiB | 17.72 MiB/s, done.\n",
            "Resolving deltas: 100% (1021/1021), done.\n",
            "Updating files: 100% (1469/1469), done.\n",
            "/content/rknn_model_zoo\n",
            "Note: switching to 'eaa94d6f57ca553d493bf3bd7399a070452d2774'.\n",
            "\n",
            "You are in 'detached HEAD' state. You can look around, make experimental\n",
            "changes and commit them, and you can discard any commits you make in this\n",
            "state without impacting any branches by switching back to a branch.\n",
            "\n",
            "If you want to create a new branch to retain commits you create, you may\n",
            "do so (now or later) by using -c with the switch command. Example:\n",
            "\n",
            "  git switch -c <new-branch-name>\n",
            "\n",
            "Or undo this operation with:\n",
            "\n",
            "  git switch -\n",
            "\n",
            "Turn off this advice by setting config variable advice.detachedHead to false\n",
            "\n",
            "HEAD is now at eaa94d6 New demo release, including object detection, image segmentation, OCR, car plate detection&recognition etc.\n",
            "/content/rknn_model_zoo/examples/yolov8/python\n"
          ]
        }
      ]
    },
    {
      "cell_type": "code",
      "source": [
        "%%writefile imgs.txt\n",
        "imgs/1.jpg\n",
        "imgs/2.jpg\n",
        "imgs/3.jpg\n",
        "imgs/4.jpg\n",
        "imgs/5.jpg\n",
        "imgs/6.jpg\n",
        "imgs/7.jpg\n",
        "imgs/8.jpg\n",
        "imgs/9.jpg\n",
        "imgs/10.jpg\n",
        "imgs/11.jpg\n",
        "imgs/12.jpg\n",
        "imgs/13.jpg\n",
        "imgs/14.jpg\n",
        "imgs/15.jpg\n",
        "imgs/16.jpg\n",
        "imgs/17.jpg\n",
        "imgs/18.jpg\n",
        "imgs/19.jpg\n",
        "imgs/20.jpg"
      ],
      "metadata": {
        "trusted": true,
        "colab": {
          "base_uri": "https://localhost:8080/"
        },
        "id": "_XMLbCAxK35N",
        "outputId": "7653e3c8-e15e-4f0b-b92a-673d49e34c54"
      },
      "execution_count": 30,
      "outputs": [
        {
          "output_type": "stream",
          "name": "stdout",
          "text": [
            "Writing imgs.txt\n"
          ]
        }
      ]
    },
    {
      "cell_type": "code",
      "source": [
        "import os\n",
        "import shutil\n",
        "import random\n",
        "import glob\n",
        "\n",
        "def copy_and_rename_images(source_folder, destination_folder, n):\n",
        "    if not os.path.exists(source_folder):\n",
        "        print(f\"Source folder '{source_folder}' does not exist.\")\n",
        "        return\n",
        "    if not os.path.exists(destination_folder):\n",
        "        os.makedirs(destination_folder)\n",
        "    image_files = glob.glob(os.path.join(source_folder, '*.jpg'))\n",
        "    selected_images = random.sample(image_files, min(n, len(image_files)))\n",
        "    for i, image_path in enumerate(selected_images, start=1):\n",
        "        destination_path = os.path.join(destination_folder, f'{i}.jpg')\n",
        "        shutil.copy(image_path, destination_path)\n",
        "    print(f\"{min(n, len(image_files))} random images copied from '{source_folder}' to '{destination_folder}' and renamed.\")\n",
        "copy_and_rename_images(\"/content/Reefscape FRC.v5i.yolov8\"+\"/train/images\" , \"imgs\", 20)"
      ],
      "metadata": {
        "trusted": true,
        "colab": {
          "base_uri": "https://localhost:8080/"
        },
        "id": "OdCr2s8SK35O",
        "outputId": "51ecc433-b382-4cfa-b8b7-5cb0e717fa3b"
      },
      "execution_count": 32,
      "outputs": [
        {
          "output_type": "stream",
          "name": "stdout",
          "text": [
            "20 random images copied from '/content/Reefscape FRC.v5i.yolov8/train/images' to 'imgs' and renamed.\n"
          ]
        }
      ]
    },
    {
      "cell_type": "code",
      "source": [
        "%%replaceAllInFile {root_path}/rknn_model_zoo/examples/yolov8/python/convert.py\n",
        "[\n",
        "    ('../../../datasets/COCO/coco_subset_20.txt', 'imgs.txt'),\n",
        "]"
      ],
      "metadata": {
        "trusted": true,
        "colab": {
          "base_uri": "https://localhost:8080/"
        },
        "id": "hI8Or2ahK35O",
        "outputId": "c700a016-5a06-415b-9bc9-9ce2dd7e6360"
      },
      "execution_count": 33,
      "outputs": [
        {
          "output_type": "stream",
          "name": "stdout",
          "text": [
            "Replaced successfully in /content/rknn_model_zoo/examples/yolov8/python/convert.py\n"
          ]
        }
      ]
    },
    {
      "cell_type": "markdown",
      "source": [
        "## Quantization\n",
        "Here you choose whether to perform quantization, which makes the model lighter and faster, by converting all 32/16 bit floates in the model into 8 bit ints, which costs performance."
      ],
      "metadata": {
        "id": "8lyeD0EnK35O"
      }
    },
    {
      "cell_type": "code",
      "source": [
        "to_quantize = True # @param {type: \"boolean\"}"
      ],
      "metadata": {
        "trusted": true,
        "id": "wHTPHWpnK35O"
      },
      "execution_count": 34,
      "outputs": []
    },
    {
      "cell_type": "markdown",
      "source": [
        "## Exporting to RKNN - Final step🎉"
      ],
      "metadata": {
        "id": "b29hlDPmK35P"
      }
    },
    {
      "cell_type": "code",
      "source": [
        "#May or may not need to run most likely don't\n",
        "\n",
        "import os\n",
        "\n",
        "# Define paths\n",
        "root_path = \"/content\"  # Change this if needed\n",
        "onnx_model_path = os.path.join(root_path, \"best.onnx\")\n",
        "ex_path = os.path.join(root_path, \"rknn_model_zoo/examples/yolov8/python\")\n",
        "output_dir = os.path.join(root_path, \"rknn_model_zoo\")  # Save inside rknn_model_zoo\n",
        "\n",
        "# Set quantization type\n",
        "to_quantize = True  # Change to False if you don't want quantization\n",
        "quant_code = \"i8\" if to_quantize else \"fp\"\n",
        "\n",
        "# Define output model path\n",
        "image_size = 640  # Change this to your required input size\n",
        "output_model = os.path.join(output_dir, f\"best-{image_size}-{quant_code}.rknn\")\n",
        "\n",
        "# Run conversion script\n",
        "os.chdir(ex_path)\n",
        "os.system(f\"python convert.py {onnx_model_path} rk3588 {quant_code} {output_model}\")\n",
        "\n",
        "print(f\"RKNN model saved at: {output_model}\")\n"
      ],
      "metadata": {
        "trusted": true,
        "colab": {
          "base_uri": "https://localhost:8080/"
        },
        "id": "ws4NJ_dIK35P",
        "outputId": "6d089ec7-d476-42e0-a9a0-7f8ecf8d15f6"
      },
      "execution_count": 11,
      "outputs": [
        {
          "output_type": "stream",
          "name": "stdout",
          "text": [
            "RKNN model saved at: /content/rknn_model_zoo/best-640-i8.rknn\n"
          ]
        }
      ]
    },
    {
      "cell_type": "code",
      "source": [
        "\n",
        "#Scripts for looking into the model zoo file for imgs.txt Collab sometimes messes this up\n",
        "!ls -lh /content/rknn_model_zoo\n"
      ],
      "metadata": {
        "colab": {
          "base_uri": "https://localhost:8080/"
        },
        "id": "NoXadzSIRhB7",
        "outputId": "66fd250d-7b32-4590-8ba3-aa1461cda072"
      },
      "execution_count": 12,
      "outputs": [
        {
          "output_type": "stream",
          "name": "stdout",
          "text": [
            "total 4.1M\n",
            "drwxr-xr-x  9 root root 4.0K Mar 28 01:20 3rdparty\n",
            "-rw-r--r--  1 root root 4.0M Mar 28 01:30 best-640-i8.rknn\n",
            "-rw-r--r--  1 root root 4.6K Mar 28 01:20 build-android.sh\n",
            "-rw-r--r--  1 root root 4.6K Mar 28 01:20 build-linux.sh\n",
            "drwxr-xr-x  6 root root 4.0K Mar 28 01:20 datasets\n",
            "drwxr-xr-x 18 root root 4.0K Mar 28 01:20 examples\n",
            "-rw-r--r--  1 root root  12K Mar 28 01:20 LICENSE\n",
            "drwxr-xr-x  2 root root 4.0K Mar 28 01:20 py_utils\n",
            "-rw-r--r--  1 root root  15K Mar 28 01:20 README_CN.md\n",
            "-rw-r--r--  1 root root  16K Mar 28 01:20 README.md\n",
            "-rw-r--r--  1 root root 9.8K Mar 28 01:20 scaling_frequency.sh\n",
            "drwxr-xr-x  2 root root 4.0K Mar 28 01:20 utils\n"
          ]
        }
      ]
    },
    {
      "cell_type": "code",
      "source": [
        "#Same as above\n",
        "!find /content -name \"*.rknn\"\n",
        "\n"
      ],
      "metadata": {
        "id": "M3IrT2fpRqDm",
        "outputId": "e053a632-d36c-49e1-b809-1ee5a4c1afa0",
        "colab": {
          "base_uri": "https://localhost:8080/"
        }
      },
      "execution_count": 13,
      "outputs": [
        {
          "output_type": "stream",
          "name": "stdout",
          "text": [
            "^C\n"
          ]
        }
      ]
    },
    {
      "cell_type": "code",
      "source": [
        "!python /content/rknn_model_zoo/examples/yolov8/python/convert.py /content/best.onnx rk3588 i8 /content/rknn_model_zoo/best-640-i8.rknn\n"
      ],
      "metadata": {
        "colab": {
          "base_uri": "https://localhost:8080/"
        },
        "id": "YpIp9iroR0bq",
        "outputId": "bfbc0c2f-6a54-4dd9-cab6-e2ea6ca85812"
      },
      "execution_count": 38,
      "outputs": [
        {
          "output_type": "stream",
          "name": "stdout",
          "text": [
            "Traceback (most recent call last):\n",
            "  File \"/content/rknn_model_zoo/examples/yolov8/python/convert.py\", line 4, in <module>\n",
            "    from rknn.api import RKNN\n",
            "ModuleNotFoundError: No module named 'rknn'\n"
          ]
        }
      ]
    },
    {
      "cell_type": "code",
      "source": [
        "#Make sure you have this installed else the error from the script above will show\n",
        "!pip install --upgrade rknn-toolkit2\n"
      ],
      "metadata": {
        "colab": {
          "base_uri": "https://localhost:8080/"
        },
        "id": "dqpjref7R7Rg",
        "outputId": "047f2020-fef6-41e4-ac47-74d3263b10ad"
      },
      "execution_count": 14,
      "outputs": [
        {
          "output_type": "stream",
          "name": "stdout",
          "text": [
            "Requirement already satisfied: rknn-toolkit2 in /usr/local/lib/python3.11/dist-packages (2.3.0)\n",
            "Requirement already satisfied: protobuf<=4.25.4,>=4.21.6 in /usr/local/lib/python3.11/dist-packages (from rknn-toolkit2) (4.25.4)\n",
            "Requirement already satisfied: psutil>=5.9.0 in /usr/local/lib/python3.11/dist-packages (from rknn-toolkit2) (5.9.5)\n",
            "Requirement already satisfied: ruamel.yaml>=0.17.21 in /usr/local/lib/python3.11/dist-packages (from rknn-toolkit2) (0.18.10)\n",
            "Requirement already satisfied: scipy>=1.9.3 in /usr/local/lib/python3.11/dist-packages (from rknn-toolkit2) (1.14.1)\n",
            "Requirement already satisfied: tqdm>=4.64.1 in /usr/local/lib/python3.11/dist-packages (from rknn-toolkit2) (4.67.1)\n",
            "Requirement already satisfied: opencv-python>=4.5.5.64 in /usr/local/lib/python3.11/dist-packages (from rknn-toolkit2) (4.11.0.86)\n",
            "Requirement already satisfied: fast-histogram>=0.11 in /usr/local/lib/python3.11/dist-packages (from rknn-toolkit2) (0.14)\n",
            "Requirement already satisfied: numpy<=1.26.4 in /usr/local/lib/python3.11/dist-packages (from rknn-toolkit2) (1.26.4)\n",
            "Requirement already satisfied: onnx>=1.10.0 in /usr/local/lib/python3.11/dist-packages (from rknn-toolkit2) (1.17.0)\n",
            "Requirement already satisfied: onnxruntime>=1.15.0 in /usr/local/lib/python3.11/dist-packages (from rknn-toolkit2) (1.21.0)\n",
            "Requirement already satisfied: torch<=2.4.0,>=1.10.1 in /usr/local/lib/python3.11/dist-packages (from rknn-toolkit2) (2.4.0)\n",
            "Requirement already satisfied: coloredlogs in /usr/local/lib/python3.11/dist-packages (from onnxruntime>=1.15.0->rknn-toolkit2) (15.0.1)\n",
            "Requirement already satisfied: flatbuffers in /usr/local/lib/python3.11/dist-packages (from onnxruntime>=1.15.0->rknn-toolkit2) (25.2.10)\n",
            "Requirement already satisfied: packaging in /usr/local/lib/python3.11/dist-packages (from onnxruntime>=1.15.0->rknn-toolkit2) (24.2)\n",
            "Requirement already satisfied: sympy in /usr/local/lib/python3.11/dist-packages (from onnxruntime>=1.15.0->rknn-toolkit2) (1.13.1)\n",
            "Requirement already satisfied: ruamel.yaml.clib>=0.2.7 in /usr/local/lib/python3.11/dist-packages (from ruamel.yaml>=0.17.21->rknn-toolkit2) (0.2.12)\n",
            "Requirement already satisfied: filelock in /usr/local/lib/python3.11/dist-packages (from torch<=2.4.0,>=1.10.1->rknn-toolkit2) (3.18.0)\n",
            "Requirement already satisfied: typing-extensions>=4.8.0 in /usr/local/lib/python3.11/dist-packages (from torch<=2.4.0,>=1.10.1->rknn-toolkit2) (4.12.2)\n",
            "Requirement already satisfied: networkx in /usr/local/lib/python3.11/dist-packages (from torch<=2.4.0,>=1.10.1->rknn-toolkit2) (3.4.2)\n",
            "Requirement already satisfied: jinja2 in /usr/local/lib/python3.11/dist-packages (from torch<=2.4.0,>=1.10.1->rknn-toolkit2) (3.1.6)\n",
            "Requirement already satisfied: fsspec in /usr/local/lib/python3.11/dist-packages (from torch<=2.4.0,>=1.10.1->rknn-toolkit2) (2025.3.0)\n",
            "Requirement already satisfied: nvidia-cuda-nvrtc-cu12==12.1.105 in /usr/local/lib/python3.11/dist-packages (from torch<=2.4.0,>=1.10.1->rknn-toolkit2) (12.1.105)\n",
            "Requirement already satisfied: nvidia-cuda-runtime-cu12==12.1.105 in /usr/local/lib/python3.11/dist-packages (from torch<=2.4.0,>=1.10.1->rknn-toolkit2) (12.1.105)\n",
            "Requirement already satisfied: nvidia-cuda-cupti-cu12==12.1.105 in /usr/local/lib/python3.11/dist-packages (from torch<=2.4.0,>=1.10.1->rknn-toolkit2) (12.1.105)\n",
            "Requirement already satisfied: nvidia-cudnn-cu12==9.1.0.70 in /usr/local/lib/python3.11/dist-packages (from torch<=2.4.0,>=1.10.1->rknn-toolkit2) (9.1.0.70)\n",
            "Requirement already satisfied: nvidia-cublas-cu12==12.1.3.1 in /usr/local/lib/python3.11/dist-packages (from torch<=2.4.0,>=1.10.1->rknn-toolkit2) (12.1.3.1)\n",
            "Requirement already satisfied: nvidia-cufft-cu12==11.0.2.54 in /usr/local/lib/python3.11/dist-packages (from torch<=2.4.0,>=1.10.1->rknn-toolkit2) (11.0.2.54)\n",
            "Requirement already satisfied: nvidia-curand-cu12==10.3.2.106 in /usr/local/lib/python3.11/dist-packages (from torch<=2.4.0,>=1.10.1->rknn-toolkit2) (10.3.2.106)\n",
            "Requirement already satisfied: nvidia-cusolver-cu12==11.4.5.107 in /usr/local/lib/python3.11/dist-packages (from torch<=2.4.0,>=1.10.1->rknn-toolkit2) (11.4.5.107)\n",
            "Requirement already satisfied: nvidia-cusparse-cu12==12.1.0.106 in /usr/local/lib/python3.11/dist-packages (from torch<=2.4.0,>=1.10.1->rknn-toolkit2) (12.1.0.106)\n",
            "Requirement already satisfied: nvidia-nccl-cu12==2.20.5 in /usr/local/lib/python3.11/dist-packages (from torch<=2.4.0,>=1.10.1->rknn-toolkit2) (2.20.5)\n",
            "Requirement already satisfied: nvidia-nvtx-cu12==12.1.105 in /usr/local/lib/python3.11/dist-packages (from torch<=2.4.0,>=1.10.1->rknn-toolkit2) (12.1.105)\n",
            "Requirement already satisfied: triton==3.0.0 in /usr/local/lib/python3.11/dist-packages (from torch<=2.4.0,>=1.10.1->rknn-toolkit2) (3.0.0)\n",
            "Requirement already satisfied: nvidia-nvjitlink-cu12 in /usr/local/lib/python3.11/dist-packages (from nvidia-cusolver-cu12==11.4.5.107->torch<=2.4.0,>=1.10.1->rknn-toolkit2) (12.4.127)\n",
            "Requirement already satisfied: humanfriendly>=9.1 in /usr/local/lib/python3.11/dist-packages (from coloredlogs->onnxruntime>=1.15.0->rknn-toolkit2) (10.0)\n",
            "\u001b[31mERROR: Operation cancelled by user\u001b[0m\u001b[31m\n",
            "\u001b[0mTraceback (most recent call last):\n",
            "  File \"/usr/local/lib/python3.11/dist-packages/pip/_internal/cli/base_command.py\", line 179, in exc_logging_wrapper\n",
            "    status = run_func(*args)\n",
            "             ^^^^^^^^^^^^^^^\n",
            "  File \"/usr/local/lib/python3.11/dist-packages/pip/_internal/cli/req_command.py\", line 67, in wrapper\n",
            "    return func(self, options, args)\n",
            "           ^^^^^^^^^^^^^^^^^^^^^^^^^\n",
            "  File \"/usr/local/lib/python3.11/dist-packages/pip/_internal/commands/install.py\", line 377, in run\n",
            "    requirement_set = resolver.resolve(\n",
            "                      ^^^^^^^^^^^^^^^^^\n",
            "  File \"/usr/local/lib/python3.11/dist-packages/pip/_internal/resolution/resolvelib/resolver.py\", line 95, in resolve\n",
            "    result = self._result = resolver.resolve(\n",
            "                            ^^^^^^^^^^^^^^^^^\n",
            "  File \"/usr/local/lib/python3.11/dist-packages/pip/_vendor/resolvelib/resolvers.py\", line 546, in resolve\n",
            "    state = resolution.resolve(requirements, max_rounds=max_rounds)\n",
            "            ^^^^^^^^^^^^^^^^^^^^^^^^^^^^^^^^^^^^^^^^^^^^^^^^^^^^^^^\n",
            "  File \"/usr/local/lib/python3.11/dist-packages/pip/_vendor/resolvelib/resolvers.py\", line 427, in resolve\n",
            "    failure_causes = self._attempt_to_pin_criterion(name)\n",
            "                     ^^^^^^^^^^^^^^^^^^^^^^^^^^^^^^^^^^^^\n",
            "  File \"/usr/local/lib/python3.11/dist-packages/pip/_vendor/resolvelib/resolvers.py\", line 239, in _attempt_to_pin_criterion\n",
            "    criteria = self._get_updated_criteria(candidate)\n",
            "               ^^^^^^^^^^^^^^^^^^^^^^^^^^^^^^^^^^^^^\n",
            "  File \"/usr/local/lib/python3.11/dist-packages/pip/_vendor/resolvelib/resolvers.py\", line 229, in _get_updated_criteria\n",
            "    for requirement in self._p.get_dependencies(candidate=candidate):\n",
            "                       ^^^^^^^^^^^^^^^^^^^^^^^^^^^^^^^^^^^^^^^^^^^^^\n",
            "  File \"/usr/local/lib/python3.11/dist-packages/pip/_internal/resolution/resolvelib/provider.py\", line 247, in get_dependencies\n",
            "    return [r for r in candidate.iter_dependencies(with_requires) if r is not None]\n",
            "           ^^^^^^^^^^^^^^^^^^^^^^^^^^^^^^^^^^^^^^^^^^^^^^^^^^^^^^^^^^^^^^^^^^^^^^^^\n",
            "  File \"/usr/local/lib/python3.11/dist-packages/pip/_internal/resolution/resolvelib/provider.py\", line 247, in <listcomp>\n",
            "    return [r for r in candidate.iter_dependencies(with_requires) if r is not None]\n",
            "           ^^^^^^^^^^^^^^^^^^^^^^^^^^^^^^^^^^^^^^^^^^^^^^^^^^^^^^^^^^^^^^^^^^^^^^^^\n",
            "  File \"/usr/local/lib/python3.11/dist-packages/pip/_internal/resolution/resolvelib/candidates.py\", line 401, in iter_dependencies\n",
            "    for r in self.dist.iter_dependencies():\n",
            "  File \"/usr/local/lib/python3.11/dist-packages/pip/_internal/metadata/importlib/_dists.py\", line 222, in iter_dependencies\n",
            "    req = Requirement(req_string.strip())\n",
            "          ^^^^^^^^^^^^^^^^^^^^^^^^^^^^^^^\n",
            "  File \"/usr/local/lib/python3.11/dist-packages/pip/_vendor/packaging/requirements.py\", line 36, in __init__\n",
            "    parsed = _parse_requirement(requirement_string)\n",
            "             ^^^^^^^^^^^^^^^^^^^^^^^^^^^^^^^^^^^^^^\n",
            "  File \"/usr/local/lib/python3.11/dist-packages/pip/_vendor/packaging/_parser.py\", line 62, in parse_requirement\n",
            "    return _parse_requirement(Tokenizer(source, rules=DEFAULT_RULES))\n",
            "           ^^^^^^^^^^^^^^^^^^^^^^^^^^^^^^^^^^^^^^^^^^^^^^^^^^^^^^^^^^\n",
            "  File \"/usr/local/lib/python3.11/dist-packages/pip/_vendor/packaging/_parser.py\", line 80, in _parse_requirement\n",
            "    url, specifier, marker = _parse_requirement_details(tokenizer)\n",
            "                             ^^^^^^^^^^^^^^^^^^^^^^^^^^^^^^^^^^^^^\n",
            "  File \"/usr/local/lib/python3.11/dist-packages/pip/_vendor/packaging/_parser.py\", line 124, in _parse_requirement_details\n",
            "    marker = _parse_requirement_marker(\n",
            "             ^^^^^^^^^^^^^^^^^^^^^^^^^^\n",
            "  File \"/usr/local/lib/python3.11/dist-packages/pip/_vendor/packaging/_parser.py\", line 151, in _parse_requirement_marker\n",
            "    marker = _parse_marker(tokenizer)\n",
            "             ^^^^^^^^^^^^^^^^^^^^^^^^\n",
            "  File \"/usr/local/lib/python3.11/dist-packages/pip/_vendor/packaging/_parser.py\", line 266, in _parse_marker\n",
            "    expression = [_parse_marker_atom(tokenizer)]\n",
            "                  ^^^^^^^^^^^^^^^^^^^^^^^^^^^^^\n",
            "  File \"/usr/local/lib/python3.11/dist-packages/pip/_vendor/packaging/_parser.py\", line 291, in _parse_marker_atom\n",
            "    marker = _parse_marker_item(tokenizer)\n",
            "             ^^^^^^^^^^^^^^^^^^^^^^^^^^^^^\n",
            "  File \"/usr/local/lib/python3.11/dist-packages/pip/_vendor/packaging/_parser.py\", line 305, in _parse_marker_item\n",
            "    marker_var_right = _parse_marker_var(tokenizer)\n",
            "                       ^^^^^^^^^^^^^^^^^^^^^^^^^^^^\n",
            "  File \"/usr/local/lib/python3.11/dist-packages/pip/_vendor/packaging/_parser.py\", line 317, in _parse_marker_var\n",
            "    return process_python_str(tokenizer.read().text)\n",
            "           ^^^^^^^^^^^^^^^^^^^^^^^^^^^^^^^^^^^^^^^^^\n",
            "  File \"/usr/local/lib/python3.11/dist-packages/pip/_vendor/packaging/_parser.py\", line 332, in process_python_str\n",
            "    value = ast.literal_eval(python_str)\n",
            "            ^^^^^^^^^^^^^^^^^^^^^^^^^^^^\n",
            "  File \"/usr/lib/python3.11/ast.py\", line 110, in literal_eval\n",
            "    return _convert(node_or_string)\n",
            "           ^^^^^^^^^^^^^^^^^^^^^^^^\n",
            "  File \"/usr/lib/python3.11/ast.py\", line 84, in _convert\n",
            "    def _convert(node):\n",
            "\n",
            "KeyboardInterrupt\n",
            "\n",
            "During handling of the above exception, another exception occurred:\n",
            "\n",
            "Traceback (most recent call last):\n",
            "  File \"/usr/local/bin/pip3\", line 10, in <module>\n",
            "    sys.exit(main())\n",
            "             ^^^^^^\n",
            "  File \"/usr/local/lib/python3.11/dist-packages/pip/_internal/cli/main.py\", line 80, in main\n",
            "    return command.main(cmd_args)\n",
            "           ^^^^^^^^^^^^^^^^^^^^^^\n",
            "  File \"/usr/local/lib/python3.11/dist-packages/pip/_internal/cli/base_command.py\", line 100, in main\n",
            "    return self._main(args)\n",
            "           ^^^^^^^^^^^^^^^^\n",
            "  File \"/usr/local/lib/python3.11/dist-packages/pip/_internal/cli/base_command.py\", line 232, in _main\n",
            "    return run(options, args)\n",
            "           ^^^^^^^^^^^^^^^^^^\n",
            "  File \"/usr/local/lib/python3.11/dist-packages/pip/_internal/cli/base_command.py\", line 216, in exc_logging_wrapper\n",
            "    logger.debug(\"Exception information:\", exc_info=True)\n",
            "  File \"/usr/lib/python3.11/logging/__init__.py\", line 1477, in debug\n",
            "    self._log(DEBUG, msg, args, **kwargs)\n",
            "  File \"/usr/lib/python3.11/logging/__init__.py\", line 1634, in _log\n",
            "    self.handle(record)\n",
            "  File \"/usr/lib/python3.11/logging/__init__.py\", line 1644, in handle\n",
            "    self.callHandlers(record)\n",
            "  File \"/usr/lib/python3.11/logging/__init__.py\", line 1706, in callHandlers\n",
            "    hdlr.handle(record)\n",
            "  File \"/usr/lib/python3.11/logging/__init__.py\", line 978, in handle\n",
            "    self.emit(record)\n",
            "  File \"/usr/lib/python3.11/logging/handlers.py\", line 75, in emit\n",
            "    logging.FileHandler.emit(self, record)\n",
            "  File \"/usr/lib/python3.11/logging/__init__.py\", line 1230, in emit\n",
            "    StreamHandler.emit(self, record)\n",
            "  File \"/usr/lib/python3.11/logging/__init__.py\", line 1110, in emit\n",
            "    msg = self.format(record)\n",
            "          ^^^^^^^^^^^^^^^^^^^\n",
            "  File \"/usr/lib/python3.11/logging/__init__.py\", line 953, in format\n",
            "    return fmt.format(record)\n",
            "           ^^^^^^^^^^^^^^^^^^\n",
            "  File \"/usr/local/lib/python3.11/dist-packages/pip/_internal/utils/logging.py\", line 112, in format\n",
            "    formatted = super().format(record)\n",
            "                ^^^^^^^^^^^^^^^^^^^^^^\n",
            "  File \"/usr/lib/python3.11/logging/__init__.py\", line 695, in format\n",
            "    record.exc_text = self.formatException(record.exc_info)\n",
            "                      ^^^^^^^^^^^^^^^^^^^^^^^^^^^^^^^^^^^^^\n",
            "  File \"/usr/lib/python3.11/logging/__init__.py\", line 645, in formatException\n",
            "    traceback.print_exception(ei[0], ei[1], tb, None, sio)\n",
            "  File \"/usr/lib/python3.11/traceback.py\", line 124, in print_exception\n",
            "    te = TracebackException(type(value), value, tb, limit=limit, compact=True)\n",
            "         ^^^^^^^^^^^^^^^^^^^^^^^^^^^^^^^^^^^^^^^^^^^^^^^^^^^^^^^^^^^^^^^^^^^^^\n",
            "  File \"/usr/lib/python3.11/traceback.py\", line 728, in __init__\n",
            "    self.stack = StackSummary._extract_from_extended_frame_gen(\n",
            "                 ^^^^^^^^^^^^^^^^^^^^^^^^^^^^^^^^^^^^^^^^^^^^^^\n",
            "  File \"/usr/lib/python3.11/traceback.py\", line 413, in _extract_from_extended_frame_gen\n",
            "    for f, (lineno, end_lineno, colno, end_colno) in frame_gen:\n",
            "  File \"/usr/lib/python3.11/traceback.py\", line 350, in _walk_tb_with_full_positions\n",
            "    positions = _get_code_position(tb.tb_frame.f_code, tb.tb_lasti)\n",
            "                ^^^^^^^^^^^^^^^^^^^^^^^^^^^^^^^^^^^^^^^^^^^^^^^^^^^\n",
            "  File \"/usr/lib/python3.11/traceback.py\", line 364, in _get_code_position\n",
            "    return next(itertools.islice(positions_gen, instruction_index // 2, None))\n",
            "           ^^^^^^^^^^^^^^^^^^^^^^^^^^^^^^^^^^^^^^^^^^^^^^^^^^^^^^^^^^^^^^^^^^^\n",
            "KeyboardInterrupt\n",
            "^C\n"
          ]
        }
      ]
    },
    {
      "cell_type": "code",
      "source": [
        "#if you have errors with imgs.txt this won't work else it will (Update this won't work just keep running scripts after)\n",
        "!python /content/rknn_model_zoo/examples/yolov8/python/convert.py /content/best.onnx rk3588 i8 /content/rknn_model_zoo/best-640-i8.rknn\n"
      ],
      "metadata": {
        "colab": {
          "base_uri": "https://localhost:8080/"
        },
        "id": "-ifz3niWSwDZ",
        "outputId": "730d4c56-3fd9-419c-f396-d4b4e3a60deb"
      },
      "execution_count": 16,
      "outputs": [
        {
          "output_type": "stream",
          "name": "stdout",
          "text": [
            "I rknn-toolkit2 version: 2.3.0\n",
            "--> Config model\n",
            "done\n",
            "--> Loading model\n",
            "I Loading : 100%|██████████████████████████████████████████████| 126/126 [00:00<00:00, 28543.47it/s]\n",
            "done\n",
            "--> Building model\n",
            "I OpFusing 0: 100%|█████████████████████████████████████████████| 100/100 [00:00<00:00, 1009.42it/s]\n",
            "I OpFusing 1 : 100%|█████████████████████████████████████████████| 100/100 [00:00<00:00, 457.84it/s]\n",
            "I OpFusing 0 : 100%|█████████████████████████████████████████████| 100/100 [00:00<00:00, 262.30it/s]\n",
            "I OpFusing 1 : 100%|█████████████████████████████████████████████| 100/100 [00:00<00:00, 244.70it/s]\n",
            "I OpFusing 2 : 100%|█████████████████████████████████████████████| 100/100 [00:00<00:00, 235.42it/s]\n",
            "I OpFusing 0 : 100%|█████████████████████████████████████████████| 100/100 [00:00<00:00, 172.79it/s]\n",
            "I OpFusing 1 : 100%|█████████████████████████████████████████████| 100/100 [00:00<00:00, 163.90it/s]\n",
            "I OpFusing 2 : 100%|██████████████████████████████████████████████| 100/100 [00:01<00:00, 98.61it/s]\n",
            "I GraphPreparing : 100%|████████████████████████████████████████| 161/161 [00:00<00:00, 8337.65it/s]\n",
            "I Quantizating : 100%|████████████████████████████████████████████| 161/161 [00:07<00:00, 20.28it/s]\n",
            "\u001b[1;33mW\u001b[0m \u001b[1;33mbuild: The default input dtype of 'images' is changed from 'float32' to 'int8' in rknn model for performance!\n",
            "                       Please take care of this change when deploy rknn model with Runtime API!\u001b[0m\n",
            "\u001b[1;33mW\u001b[0m \u001b[1;33mbuild: The default output dtype of '318' is changed from 'float32' to 'int8' in rknn model for performance!\n",
            "                      Please take care of this change when deploy rknn model with Runtime API!\u001b[0m\n",
            "\u001b[1;33mW\u001b[0m \u001b[1;33mbuild: The default output dtype of 'onnx::ReduceSum_326' is changed from 'float32' to 'int8' in rknn model for performance!\n",
            "                      Please take care of this change when deploy rknn model with Runtime API!\u001b[0m\n",
            "\u001b[1;33mW\u001b[0m \u001b[1;33mbuild: The default output dtype of '331' is changed from 'float32' to 'int8' in rknn model for performance!\n",
            "                      Please take care of this change when deploy rknn model with Runtime API!\u001b[0m\n",
            "\u001b[1;33mW\u001b[0m \u001b[1;33mbuild: The default output dtype of '338' is changed from 'float32' to 'int8' in rknn model for performance!\n",
            "                      Please take care of this change when deploy rknn model with Runtime API!\u001b[0m\n",
            "\u001b[1;33mW\u001b[0m \u001b[1;33mbuild: The default output dtype of 'onnx::ReduceSum_346' is changed from 'float32' to 'int8' in rknn model for performance!\n",
            "                      Please take care of this change when deploy rknn model with Runtime API!\u001b[0m\n",
            "\u001b[1;33mW\u001b[0m \u001b[1;33mbuild: The default output dtype of '350' is changed from 'float32' to 'int8' in rknn model for performance!\n",
            "                      Please take care of this change when deploy rknn model with Runtime API!\u001b[0m\n",
            "\u001b[1;33mW\u001b[0m \u001b[1;33mbuild: The default output dtype of '357' is changed from 'float32' to 'int8' in rknn model for performance!\n",
            "                      Please take care of this change when deploy rknn model with Runtime API!\u001b[0m\n",
            "\u001b[1;33mW\u001b[0m \u001b[1;33mbuild: The default output dtype of 'onnx::ReduceSum_365' is changed from 'float32' to 'int8' in rknn model for performance!\n",
            "                      Please take care of this change when deploy rknn model with Runtime API!\u001b[0m\n",
            "\u001b[1;33mW\u001b[0m \u001b[1;33mbuild: The default output dtype of '369' is changed from 'float32' to 'int8' in rknn model for performance!\n",
            "                      Please take care of this change when deploy rknn model with Runtime API!\u001b[0m\n",
            "I rknn building ...\n",
            "I rknn building done.\n",
            "done\n",
            "--> Export rknn model\n",
            "done\n"
          ]
        }
      ]
    },
    {
      "cell_type": "code",
      "source": [
        "#Make sure imgs.txt is where you want it to be\n",
        "!ls -lh /content/rknn_model_zoo/examples/yolov8/python/imgs.txt\n"
      ],
      "metadata": {
        "colab": {
          "base_uri": "https://localhost:8080/"
        },
        "id": "SILphibxT0Ya",
        "outputId": "e2dc44c7-2843-4a15-8bed-10b487c090ae"
      },
      "execution_count": 2,
      "outputs": [
        {
          "output_type": "stream",
          "name": "stdout",
          "text": [
            "-rw-r--r-- 1 root root 231 Mar 28 01:20 /content/rknn_model_zoo/examples/yolov8/python/imgs.txt\n"
          ]
        }
      ]
    },
    {
      "cell_type": "code",
      "source": [
        "\n",
        "!pwd\n"
      ],
      "metadata": {
        "colab": {
          "base_uri": "https://localhost:8080/"
        },
        "id": "UDa8LM3-T28A",
        "outputId": "9a611334-0e13-4189-84a6-8cd79c3cbb05"
      },
      "execution_count": 3,
      "outputs": [
        {
          "output_type": "stream",
          "name": "stdout",
          "text": [
            "/content\n"
          ]
        }
      ]
    },
    {
      "cell_type": "code",
      "source": [
        "import os\n",
        "os.chdir(\"/content/rknn_model_zoo/examples/yolov8/python\")\n"
      ],
      "metadata": {
        "id": "k2wZyz2cUBh2"
      },
      "execution_count": 4,
      "outputs": []
    },
    {
      "cell_type": "code",
      "source": [
        "#Same thing\n",
        "!ls -lh /content/rknn_model_zoo/examples/yolov8/python/imgs.txt\n"
      ],
      "metadata": {
        "colab": {
          "base_uri": "https://localhost:8080/"
        },
        "id": "6K1KM2s5UElP",
        "outputId": "f137ccaa-fa8c-4166-b734-009810b4e359"
      },
      "execution_count": 5,
      "outputs": [
        {
          "output_type": "stream",
          "name": "stdout",
          "text": [
            "-rw-r--r-- 1 root root 231 Mar 28 01:20 /content/rknn_model_zoo/examples/yolov8/python/imgs.txt\n"
          ]
        }
      ]
    },
    {
      "cell_type": "code",
      "source": [
        "#If Imgs.txt does not have any errors and it is in /content/rknn_model_zoo/examples/yolov8/python/imgs.textThis will work and train Make sure to rename model to have .onnx and put the right name here\n",
        "!python /content/rknn_model_zoo/examples/yolov8/python/convert.py /content/best (2).onnx.onnx rk3588 i8 /content/best-640-i8.rknn\n"
      ],
      "metadata": {
        "colab": {
          "base_uri": "https://localhost:8080/"
        },
        "id": "E_sqDN2vUHwY",
        "outputId": "b83ff71d-40cf-4c4b-810a-1b5bff00b10d"
      },
      "execution_count": 10,
      "outputs": [
        {
          "output_type": "stream",
          "name": "stdout",
          "text": [
            "/bin/bash: -c: line 1: syntax error near unexpected token `('\n",
            "/bin/bash: -c: line 1: `python /content/rknn_model_zoo/examples/yolov8/python/convert.py /content/best (2).onnx.onnx rk3588 i8 /content/best-640-i8.rknn'\n"
          ]
        }
      ]
    }
  ]
}