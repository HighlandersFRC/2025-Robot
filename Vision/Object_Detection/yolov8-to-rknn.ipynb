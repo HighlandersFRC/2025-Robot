{
  "metadata": {
    "kernelspec": {
      "display_name": "Python 3",
      "name": "python3"
    },
    "language_info": {
      "name": "python",
      "version": "3.10.12",
      "mimetype": "text/x-python",
      "codemirror_mode": {
        "name": "ipython",
        "version": 3
      },
      "pygments_lexer": "ipython3",
      "nbconvert_exporter": "python",
      "file_extension": ".py"
    },
    "kaggle": {
      "accelerator": "nvidiaTeslaT4",
      "dataSources": [],
      "isInternetEnabled": true,
      "language": "python",
      "sourceType": "notebook",
      "isGpuEnabled": true
    },
    "colab": {
      "provenance": [],
      "gpuType": "T4",
      "include_colab_link": true
    },
    "accelerator": "GPU"
  },
  "nbformat_minor": 0,
  "nbformat": 4,
  "cells": [
    {
      "cell_type": "markdown",
      "metadata": {
        "id": "view-in-github",
        "colab_type": "text"
      },
      "source": [
        "<a href=\"https://colab.research.google.com/github/HighlandersFRC/2025-Robot/blob/Comp-bot/Vision/Object_Detection/yolov8-to-rknn.ipynb\" target=\"_parent\"><img src=\"https://colab.research.google.com/assets/colab-badge.svg\" alt=\"Open In Colab\"/></a>"
      ]
    },
    {
      "cell_type": "markdown",
      "source": [
        "# YOLOv8 Training and Conversion to RKNN - Team 5990 TRIGON\n",
        "<img src =\"https://avatars.githubusercontent.com/u/45858082?s=280&v=4\" />"
      ],
      "metadata": {
        "id": "B-bEwnl4K34-"
      }
    },
    {
      "cell_type": "code",
      "source": [
        "#Run until it gets to training\n",
        "%cd {root_path}\n",
        "import os\n",
        "root_path = os.getcwd()\n",
        "\n",
        "!git clone https://github.com/airockchip/ultralytics_yolov8 ultralytics\n",
        "%cd ultralytics\n",
        "!git checkout 5b7ddd8f821c8f6edb389aa30cfbc88bd903867b\n",
        "\n",
        "!pip install -e .\n",
        "\n",
        "from IPython import display\n",
        "display.clear_output()\n",
        "\n",
        "import ultralytics\n",
        "ultralytics.checks()"
      ],
      "metadata": {
        "_uuid": "8f2839f25d086af736a60e9eeb907d3b93b6e0e5",
        "_cell_guid": "b1076dfc-b9ad-4769-8c92-a6c4dae69d19",
        "trusted": true,
        "colab": {
          "base_uri": "https://localhost:8080/"
        },
        "id": "KK2OEgCMK35A",
        "outputId": "105250ea-a1be-4654-9a6b-8ee51f912d99"
      },
      "execution_count": 1,
      "outputs": [
        {
          "output_type": "stream",
          "name": "stderr",
          "text": [
            "Ultralytics YOLOv8.0.151 🚀 Python-3.11.11 torch-2.5.1+cu124 CUDA:0 (Tesla T4, 15095MiB)\n",
            "Setup complete ✅ (2 CPUs, 12.7 GB RAM, 33.2/112.6 GB disk)\n"
          ]
        }
      ]
    },
    {
      "cell_type": "markdown",
      "source": [
        "## Downloading the dataset\n",
        "Input your Roboflow API key below. It can be obtained [here](https://app.roboflow.com/settings/api).\n",
        "You can use your own dataset, the rest of the notebook should work with any number of classes, as long as the project is of \"object detection\" type."
      ],
      "metadata": {
        "id": "Qtf8YzfhK35D"
      }
    },
    {
      "cell_type": "code",
      "source": [
        "#Roboflow code can get from there\n",
        "!pip install roboflow\n",
        "\n",
        "from roboflow import Roboflow\n",
        "rf = Roboflow(api_key=\"ZJKWzflTfb5Pi6f1pQrN\")\n",
        "project = rf.workspace(\"robotdetection4003\").project(\"reefscape-frc\")\n",
        "version = project.version(5)\n",
        "dataset = version.download(\"yolov8\")\n"
      ],
      "metadata": {
        "trusted": true,
        "colab": {
          "base_uri": "https://localhost:8080/"
        },
        "id": "B1mvI5MVK35D",
        "outputId": "63fea2bb-1596-43b9-df9c-71114a5cb5ef"
      },
      "execution_count": 1,
      "outputs": [
        {
          "output_type": "stream",
          "name": "stdout",
          "text": [
            "Requirement already satisfied: roboflow in /usr/local/lib/python3.11/dist-packages (1.1.54)\n",
            "Requirement already satisfied: certifi in /usr/local/lib/python3.11/dist-packages (from roboflow) (2025.1.31)\n",
            "Requirement already satisfied: idna==3.7 in /usr/local/lib/python3.11/dist-packages (from roboflow) (3.7)\n",
            "Requirement already satisfied: cycler in /usr/local/lib/python3.11/dist-packages (from roboflow) (0.12.1)\n",
            "Requirement already satisfied: kiwisolver>=1.3.1 in /usr/local/lib/python3.11/dist-packages (from roboflow) (1.4.8)\n",
            "Requirement already satisfied: matplotlib in /usr/local/lib/python3.11/dist-packages (from roboflow) (3.10.0)\n",
            "Requirement already satisfied: numpy>=1.18.5 in /usr/local/lib/python3.11/dist-packages (from roboflow) (1.26.4)\n",
            "Requirement already satisfied: opencv-python-headless==4.10.0.84 in /usr/local/lib/python3.11/dist-packages (from roboflow) (4.10.0.84)\n",
            "Requirement already satisfied: Pillow>=7.1.2 in /usr/local/lib/python3.11/dist-packages (from roboflow) (11.1.0)\n",
            "Requirement already satisfied: python-dateutil in /usr/local/lib/python3.11/dist-packages (from roboflow) (2.8.2)\n",
            "Requirement already satisfied: python-dotenv in /usr/local/lib/python3.11/dist-packages (from roboflow) (1.0.1)\n",
            "Requirement already satisfied: requests in /usr/local/lib/python3.11/dist-packages (from roboflow) (2.32.3)\n",
            "Requirement already satisfied: six in /usr/local/lib/python3.11/dist-packages (from roboflow) (1.17.0)\n",
            "Requirement already satisfied: urllib3>=1.26.6 in /usr/local/lib/python3.11/dist-packages (from roboflow) (2.3.0)\n",
            "Requirement already satisfied: tqdm>=4.41.0 in /usr/local/lib/python3.11/dist-packages (from roboflow) (4.67.1)\n",
            "Requirement already satisfied: PyYAML>=5.3.1 in /usr/local/lib/python3.11/dist-packages (from roboflow) (6.0.2)\n",
            "Requirement already satisfied: requests-toolbelt in /usr/local/lib/python3.11/dist-packages (from roboflow) (1.0.0)\n",
            "Requirement already satisfied: filetype in /usr/local/lib/python3.11/dist-packages (from roboflow) (1.2.0)\n",
            "Requirement already satisfied: contourpy>=1.0.1 in /usr/local/lib/python3.11/dist-packages (from matplotlib->roboflow) (1.3.1)\n",
            "Requirement already satisfied: fonttools>=4.22.0 in /usr/local/lib/python3.11/dist-packages (from matplotlib->roboflow) (4.56.0)\n",
            "Requirement already satisfied: packaging>=20.0 in /usr/local/lib/python3.11/dist-packages (from matplotlib->roboflow) (24.2)\n",
            "Requirement already satisfied: pyparsing>=2.3.1 in /usr/local/lib/python3.11/dist-packages (from matplotlib->roboflow) (3.2.1)\n",
            "Requirement already satisfied: charset-normalizer<4,>=2 in /usr/local/lib/python3.11/dist-packages (from requests->roboflow) (3.4.1)\n",
            "loading Roboflow workspace...\n",
            "loading Roboflow project...\n"
          ]
        },
        {
          "output_type": "stream",
          "name": "stderr",
          "text": [
            "Downloading Dataset Version Zip in Reefscape-FRC-5 to yolov8:: 100%|██████████| 3032492/3032492 [01:36<00:00, 31322.47it/s]"
          ]
        },
        {
          "output_type": "stream",
          "name": "stdout",
          "text": [
            "\n"
          ]
        },
        {
          "output_type": "stream",
          "name": "stderr",
          "text": [
            "\n",
            "Extracting Dataset Version Zip to Reefscape-FRC-5 in yolov8:: 100%|██████████| 158606/158606 [00:31<00:00, 4992.90it/s]\n"
          ]
        }
      ]
    },
    {
      "cell_type": "code",
      "source": [
        "import os\n",
        "import re\n",
        "from IPython.core.magic import register_line_cell_magic\n",
        "\n",
        "@register_line_cell_magic\n",
        "def writetemplate(line, cell):\n",
        "    with open(line, 'w') as f:\n",
        "        f.write(cell.format(**globals()))\n",
        "        print(\"Wrote successfully to \" + line)\n",
        "\n",
        "@register_line_cell_magic\n",
        "def replaceAllInFile(line, cell):\n",
        "    filename = line.strip()\n",
        "    replacements = eval(cell)  # Assuming input is a valid Python expression\n",
        "    with open(filename, 'r') as f:\n",
        "        file_content = f.read()\n",
        "    for replaced, with_this in replacements:\n",
        "        file_content = re.sub(replaced, with_this, file_content)\n",
        "    with open(filename, 'w') as f:\n",
        "        f.write(file_content)\n",
        "    print(f\"Replaced successfully in {filename}\")"
      ],
      "metadata": {
        "trusted": true,
        "id": "U-FeE0h7K35E"
      },
      "execution_count": 7,
      "outputs": []
    },
    {
      "cell_type": "code",
      "source": [
        "%cat {dataset.location}/data.yaml"
      ],
      "metadata": {
        "trusted": true,
        "id": "Dj9_KTJSK35F",
        "outputId": "1a75976a-417e-4b9c-c8a4-ccb5440f31fe",
        "colab": {
          "base_uri": "https://localhost:8080/"
        }
      },
      "execution_count": 8,
      "outputs": [
        {
          "output_type": "stream",
          "name": "stdout",
          "text": [
            "names:\n",
            "- algae\n",
            "- coral\n",
            "nc: 2\n",
            "roboflow:\n",
            "  license: CC BY 4.0\n",
            "  project: reefscape-frc\n",
            "  url: https://universe.roboflow.com/robotdetection4003/reefscape-frc/dataset/5\n",
            "  version: 5\n",
            "  workspace: robotdetection4003\n",
            "test: ../test/images\n",
            "train: ../train/images\n",
            "val: ../valid/images\n"
          ]
        }
      ]
    },
    {
      "cell_type": "markdown",
      "source": [
        "#### This is needed because the default format of the directories in roboflow datasets is kinda broken:"
      ],
      "metadata": {
        "id": "syEHoORyK35G"
      }
    },
    {
      "cell_type": "code",
      "source": [
        "#New update fixes\n",
        "import os\n",
        "\n",
        "# Define paths\n",
        "dataset_location = \"/content/Reefscape-FRC-5\"  # Update if your path is different\n",
        "data_yaml_path = os.path.join(dataset_location, \"data.yaml\")\n",
        "\n",
        "# Ensure the file exists before proceeding\n",
        "if not os.path.exists(data_yaml_path):\n",
        "    raise FileNotFoundError(f\"File not found: {data_yaml_path}\")\n",
        "\n",
        "# Read the YAML file\n",
        "with open(data_yaml_path, \"r\") as file:\n",
        "    content = file.read()\n",
        "\n",
        "# Define replacements\n",
        "content = content.replace(\"test: ..\", f\"test: {dataset_location}/test\")\n",
        "content = content.replace(\"train: \", f\"train: {dataset_location}/train\")\n",
        "content = content.replace(\"val: \", f\"val: {dataset_location}/valid\")  # Assuming \"valid\" is for validation\n",
        "\n",
        "# Write the changes back to the file\n",
        "with open(data_yaml_path, \"w\") as file:\n",
        "    file.write(content)\n",
        "\n",
        "print(\"data.yaml updated successfully!\")\n"
      ],
      "metadata": {
        "trusted": true,
        "colab": {
          "base_uri": "https://localhost:8080/"
        },
        "id": "s_LOMjcNK35G",
        "outputId": "40b2d425-1f0f-4126-9cec-f5881cccb825"
      },
      "execution_count": 11,
      "outputs": [
        {
          "output_type": "stream",
          "name": "stdout",
          "text": [
            "data.yaml updated successfully!\n"
          ]
        }
      ]
    },
    {
      "cell_type": "code",
      "source": [
        "# define number of classes based on YAML\n",
        "import yaml\n",
        "with open(dataset.location + \"/data.yaml\", 'r') as stream:\n",
        "    num_classes = str(yaml.safe_load(stream)['nc'])\n",
        "print(f\"num_classes: {num_classes}\")\n",
        "%cd {root_path}/ultralytics"
      ],
      "metadata": {
        "trusted": true,
        "colab": {
          "base_uri": "https://localhost:8080/"
        },
        "id": "vVgn9bFJK35H",
        "outputId": "bb84ff03-9268-4051-bd2d-fdfb1109ef46"
      },
      "execution_count": 12,
      "outputs": [
        {
          "output_type": "stream",
          "name": "stdout",
          "text": [
            "num_classes: 2\n",
            "[Errno 2] No such file or directory: '{root_path}/ultralytics'\n",
            "/content\n"
          ]
        }
      ]
    },
    {
      "cell_type": "code",
      "source": [
        "%%writetemplate custom_yolov8.yaml\n",
        "# Ultralytics YOLO 🚀, AGPL-3.0 license\n",
        "# YOLOv8 object detection model with P3-P5 outputs. For Usage examples see https://docs.ultralytics.com/tasks/detect\n",
        "\n",
        "# Parameters\n",
        "nc: {num_classes}  # number of classes\n",
        "scales: # model compound scaling constants, i.e. 'model=yolov8n.yaml' will call yolov8.yaml with scale 'n'\n",
        "  # [depth, width, max_channels]\n",
        "  n: [0.33, 0.25, 1024]  # YOLOv8n summary: 225 layers,  3157200 parameters,  3157184 gradients,   8.9 GFLOPs\n",
        "  s: [0.33, 0.50, 1024]  # YOLOv8s summary: 225 layers, 11166560 parameters, 11166544 gradients,  28.8 GFLOPs\n",
        "  m: [0.67, 0.75, 768]   # YOLOv8m summary: 295 layers, 25902640 parameters, 25902624 gradients,  79.3 GFLOPs\n",
        "  l: [1.00, 1.00, 512]   # YOLOv8l summary: 365 layers, 43691520 parameters, 43691504 gradients, 165.7 GFLOPs\n",
        "  x: [1.00, 1.25, 512]   # YOLOv8x summary: 365 layers, 68229648 parameters, 68229632 gradients, 258.5 GFLOPs\n",
        "activation: nn.ReLU()\n",
        "# YOLOv8.0n backbone\n",
        "backbone:\n",
        "  # [from, repeats, module, args]\n",
        "  - [-1, 1, Conv, [64, 3, 2]]  # 0-P1/2\n",
        "  - [-1, 1, Conv, [128, 3, 2]]  # 1-P2/4\n",
        "  - [-1, 3, C2f, [128, True]]\n",
        "  - [-1, 1, Conv, [256, 3, 2]]  # 3-P3/8\n",
        "  - [-1, 6, C2f, [256, True]]\n",
        "  - [-1, 1, Conv, [512, 3, 2]]  # 5-P4/16\n",
        "  - [-1, 6, C2f, [512, True]]\n",
        "  - [-1, 1, Conv, [1024, 3, 2]]  # 7-P5/32\n",
        "  - [-1, 3, C2f, [1024, True]]\n",
        "  - [-1, 1, SPPF, [1024, 5]]  # 9\n",
        "\n",
        "# YOLOv8.0n head\n",
        "head:\n",
        "  - [-1, 1, nn.Upsample, [None, 2, 'nearest']]\n",
        "  - [[-1, 6], 1, Concat, [1]]  # cat backbone P4\n",
        "  - [-1, 3, C2f, [512]]  # 12\n",
        "\n",
        "  - [-1, 1, nn.Upsample, [None, 2, 'nearest']]\n",
        "  - [[-1, 4], 1, Concat, [1]]  # cat backbone P3\n",
        "  - [-1, 3, C2f, [256]]  # 15 (P3/8-small)\n",
        "\n",
        "  - [-1, 1, Conv, [256, 3, 2]]\n",
        "  - [[-1, 12], 1, Concat, [1]]  # cat head P4\n",
        "  - [-1, 3, C2f, [512]]  # 18 (P4/16-medium)\n",
        "\n",
        "  - [-1, 1, Conv, [512, 3, 2]]\n",
        "  - [[-1, 9], 1, Concat, [1]]  # cat head P5\n",
        "  - [-1, 3, C2f, [1024]]  # 21 (P5/32-large)\n",
        "\n",
        "  - [[15, 18, 21], 1, Detect, [nc]]  # Detect(P3, P4, P5)"
      ],
      "metadata": {
        "colab": {
          "base_uri": "https://localhost:8080/"
        },
        "id": "EpqOmEV9K35H",
        "outputId": "a8fbe9b4-bb87-4b5f-a499-b325f78d4494"
      },
      "execution_count": 13,
      "outputs": [
        {
          "output_type": "stream",
          "name": "stdout",
          "text": [
            "Wrote successfully to custom_yolov8.yaml\n"
          ]
        }
      ]
    },
    {
      "cell_type": "markdown",
      "source": [
        "## Training\n",
        "You can adjust the following settings:\n",
        "- model: one of [yolov8n, yolov8s, yolov8m, yolov8l, yolov8x]\n",
        "- image_size: The input size of the images fed to the model. Should be a multiple of 32.\n",
        "- batch: Number of samples per epoch. You should set this to the highest number possible without the training taking too much memory (it would crash if that happens, which is ok, just lower the number and try again)\n",
        "- epochs: How many iterations to train for\n",
        "- patience: After how many epochs without improvement to stop the training"
      ],
      "metadata": {
        "id": "xgAWJwpjK35I"
      }
    },
    {
      "cell_type": "code",
      "source": [
        "#Skip this whole section till you get to conversion\n",
        "%cd {root_path}/ultralytics\n",
        "model = \"yolov8n\"\n",
        "image_size = 640\n",
        "!yolo batch=192 epochs=700 patience=50 device=0 cache=ram task=detect mode=train model=./custom_{model}.yaml data={dataset.location}/data.yaml imgsz={image_size} plots=False pretrained=False single_cls={num_classes == '1'}"
      ],
      "metadata": {
        "trusted": true,
        "id": "ti7sddQvK35J"
      },
      "execution_count": null,
      "outputs": []
    },
    {
      "cell_type": "code",
      "source": [
        "latest_modified_time = 0\n",
        "latest = None\n",
        "\n",
        "for foldername, subfolders, filenames in os.walk(root_path):\n",
        "    for filename in filenames:\n",
        "        if filename == \"best.pt\":\n",
        "            file_path = os.path.join(foldername, filename)\n",
        "            modified_time = os.path.getmtime(file_path)\n",
        "            if modified_time > latest_modified_time:\n",
        "                latest_modified_time = modified_time\n",
        "                latest = file_path\n",
        "print(latest)"
      ],
      "metadata": {
        "trusted": true,
        "id": "9SD7mDpVK35K"
      },
      "execution_count": null,
      "outputs": []
    },
    {
      "cell_type": "markdown",
      "source": [
        "## Exporting to ONNX\n",
        "This is an intermediate step between the PyTorch model and the RKNN model."
      ],
      "metadata": {
        "id": "pioC8-5WK35K"
      }
    },
    {
      "cell_type": "code",
      "source": [
        "%cd {root_path}/ultralytics\n",
        "!yolo mode=export format=rknn model={latest}"
      ],
      "metadata": {
        "trusted": true,
        "id": "ko2FyiD2K35L"
      },
      "execution_count": null,
      "outputs": []
    },
    {
      "cell_type": "code",
      "source": [
        "ex_path = '.'.join(latest.split('.')[:-1]) + '.onnx'\n",
        "print(ex_path)"
      ],
      "metadata": {
        "trusted": true,
        "id": "Ol6ZGdcYK35M"
      },
      "execution_count": null,
      "outputs": []
    },
    {
      "cell_type": "markdown",
      "source": [
        "### Installing RKNN Toolkit 2"
      ],
      "metadata": {
        "id": "S4ic0bprK35M"
      }
    },
    {
      "cell_type": "code",
      "source": [
        "#Start again collab tends to mess things up here if you are not using it to train aka orin Follow comments to resolve all errors\n",
        "!wget https://github.com/rockchip-linux/rknn-toolkit2/raw/2c2d03def0c0908c86985b8190e973976ecec74c/rknn-toolkit2/packages/rknn_toolkit2-1.6.0+81f21f4d-cp310-cp310-linux_x86_64.whl\n",
        "!pip install ./rknn_toolkit2-1.6.0+81f21f4d-cp310-cp310-linux_x86_64.whl"
      ],
      "metadata": {
        "trusted": true,
        "colab": {
          "base_uri": "https://localhost:8080/"
        },
        "id": "AVZ_JT5OK35N",
        "outputId": "64356c35-4b9a-41aa-e257-f71e4d0302e2"
      },
      "execution_count": 14,
      "outputs": [
        {
          "output_type": "stream",
          "name": "stdout",
          "text": [
            "--2025-02-20 01:59:09--  https://github.com/rockchip-linux/rknn-toolkit2/raw/2c2d03def0c0908c86985b8190e973976ecec74c/rknn-toolkit2/packages/rknn_toolkit2-1.6.0+81f21f4d-cp310-cp310-linux_x86_64.whl\n",
            "Resolving github.com (github.com)... 140.82.121.3\n",
            "Connecting to github.com (github.com)|140.82.121.3|:443... connected.\n",
            "HTTP request sent, awaiting response... 302 Found\n",
            "Location: https://raw.githubusercontent.com/rockchip-linux/rknn-toolkit2/2c2d03def0c0908c86985b8190e973976ecec74c/rknn-toolkit2/packages/rknn_toolkit2-1.6.0%2B81f21f4d-cp310-cp310-linux_x86_64.whl [following]\n",
            "--2025-02-20 01:59:10--  https://raw.githubusercontent.com/rockchip-linux/rknn-toolkit2/2c2d03def0c0908c86985b8190e973976ecec74c/rknn-toolkit2/packages/rknn_toolkit2-1.6.0%2B81f21f4d-cp310-cp310-linux_x86_64.whl\n",
            "Resolving raw.githubusercontent.com (raw.githubusercontent.com)... 185.199.108.133, 185.199.109.133, 185.199.110.133, ...\n",
            "Connecting to raw.githubusercontent.com (raw.githubusercontent.com)|185.199.108.133|:443... connected.\n",
            "HTTP request sent, awaiting response... 200 OK\n",
            "Length: 38656464 (37M) [application/octet-stream]\n",
            "Saving to: ‘rknn_toolkit2-1.6.0+81f21f4d-cp310-cp310-linux_x86_64.whl’\n",
            "\n",
            "rknn_toolkit2-1.6.0 100%[===================>]  36.87M   242MB/s    in 0.2s    \n",
            "\n",
            "2025-02-20 01:59:11 (242 MB/s) - ‘rknn_toolkit2-1.6.0+81f21f4d-cp310-cp310-linux_x86_64.whl’ saved [38656464/38656464]\n",
            "\n",
            "\u001b[31mERROR: rknn_toolkit2-1.6.0+81f21f4d-cp310-cp310-linux_x86_64.whl is not a supported wheel on this platform.\u001b[0m\u001b[31m\n",
            "\u001b[0m"
          ]
        }
      ]
    },
    {
      "cell_type": "code",
      "source": [
        "%cd {root_path}\n",
        "!git clone https://github.com/airockchip/rknn_model_zoo/\n",
        "%cd rknn_model_zoo\n",
        "!git checkout eaa94d6f57ca553d493bf3bd7399a070452d2774\n",
        "%cd examples/yolov8/python"
      ],
      "metadata": {
        "trusted": true,
        "colab": {
          "base_uri": "https://localhost:8080/"
        },
        "id": "IvOevLMGK35N",
        "outputId": "54b6600d-1461-410a-daf6-92d55f3ba09b"
      },
      "execution_count": 15,
      "outputs": [
        {
          "output_type": "stream",
          "name": "stdout",
          "text": [
            "[Errno 2] No such file or directory: '{root_path}'\n",
            "/content\n",
            "Cloning into 'rknn_model_zoo'...\n",
            "remote: Enumerating objects: 3049, done.\u001b[K\n",
            "remote: Counting objects: 100% (530/530), done.\u001b[K\n",
            "remote: Compressing objects: 100% (161/161), done.\u001b[K\n",
            "remote: Total 3049 (delta 420), reused 374 (delta 369), pack-reused 2519 (from 2)\u001b[K\n",
            "Receiving objects: 100% (3049/3049), 278.47 MiB | 18.14 MiB/s, done.\n",
            "Resolving deltas: 100% (1025/1025), done.\n",
            "Updating files: 100% (1469/1469), done.\n",
            "/content/rknn_model_zoo\n",
            "Note: switching to 'eaa94d6f57ca553d493bf3bd7399a070452d2774'.\n",
            "\n",
            "You are in 'detached HEAD' state. You can look around, make experimental\n",
            "changes and commit them, and you can discard any commits you make in this\n",
            "state without impacting any branches by switching back to a branch.\n",
            "\n",
            "If you want to create a new branch to retain commits you create, you may\n",
            "do so (now or later) by using -c with the switch command. Example:\n",
            "\n",
            "  git switch -c <new-branch-name>\n",
            "\n",
            "Or undo this operation with:\n",
            "\n",
            "  git switch -\n",
            "\n",
            "Turn off this advice by setting config variable advice.detachedHead to false\n",
            "\n",
            "HEAD is now at eaa94d6 New demo release, including object detection, image segmentation, OCR, car plate detection&recognition etc.\n",
            "/content/rknn_model_zoo/examples/yolov8/python\n"
          ]
        }
      ]
    },
    {
      "cell_type": "code",
      "source": [
        "%%writefile imgs.txt\n",
        "imgs/1.jpg\n",
        "imgs/2.jpg\n",
        "imgs/3.jpg\n",
        "imgs/4.jpg\n",
        "imgs/5.jpg\n",
        "imgs/6.jpg\n",
        "imgs/7.jpg\n",
        "imgs/8.jpg\n",
        "imgs/9.jpg\n",
        "imgs/10.jpg\n",
        "imgs/11.jpg\n",
        "imgs/12.jpg\n",
        "imgs/13.jpg\n",
        "imgs/14.jpg\n",
        "imgs/15.jpg\n",
        "imgs/16.jpg\n",
        "imgs/17.jpg\n",
        "imgs/18.jpg\n",
        "imgs/19.jpg\n",
        "imgs/20.jpg"
      ],
      "metadata": {
        "trusted": true,
        "colab": {
          "base_uri": "https://localhost:8080/"
        },
        "id": "_XMLbCAxK35N",
        "outputId": "7b14b0dd-f510-47ac-ce7c-89af4bbd9898"
      },
      "execution_count": 16,
      "outputs": [
        {
          "output_type": "stream",
          "name": "stdout",
          "text": [
            "Writing imgs.txt\n"
          ]
        }
      ]
    },
    {
      "cell_type": "code",
      "source": [
        "import os\n",
        "import shutil\n",
        "import random\n",
        "import glob\n",
        "\n",
        "def copy_and_rename_images(source_folder, destination_folder, n):\n",
        "    if not os.path.exists(source_folder):\n",
        "        print(f\"Source folder '{source_folder}' does not exist.\")\n",
        "        return\n",
        "    if not os.path.exists(destination_folder):\n",
        "        os.makedirs(destination_folder)\n",
        "    image_files = glob.glob(os.path.join(source_folder, '*.jpg'))\n",
        "    selected_images = random.sample(image_files, min(n, len(image_files)))\n",
        "    for i, image_path in enumerate(selected_images, start=1):\n",
        "        destination_path = os.path.join(destination_folder, f'{i}.jpg')\n",
        "        shutil.copy(image_path, destination_path)\n",
        "    print(f\"{min(n, len(image_files))} random images copied from '{source_folder}' to '{destination_folder}' and renamed.\")\n",
        "copy_and_rename_images(dataset.location+\"/test/images\" , \"imgs\", 20)"
      ],
      "metadata": {
        "trusted": true,
        "colab": {
          "base_uri": "https://localhost:8080/"
        },
        "id": "OdCr2s8SK35O",
        "outputId": "b9fd3386-34a1-4fc7-f666-0ecfd1e951a0"
      },
      "execution_count": 17,
      "outputs": [
        {
          "output_type": "stream",
          "name": "stdout",
          "text": [
            "20 random images copied from '/content/Reefscape-FRC-5/test/images' to 'imgs' and renamed.\n"
          ]
        }
      ]
    },
    {
      "cell_type": "code",
      "source": [
        "%%replaceAllInFile {root_path}/rknn_model_zoo/examples/yolov8/python/convert.py\n",
        "[\n",
        "    ('../../../datasets/COCO/coco_subset_20.txt', 'imgs.txt'),\n",
        "]"
      ],
      "metadata": {
        "trusted": true,
        "colab": {
          "base_uri": "https://localhost:8080/",
          "height": 304
        },
        "id": "hI8Or2ahK35O",
        "outputId": "e237b2b6-4ea7-4f94-e679-ccc1c95b9d91"
      },
      "execution_count": 18,
      "outputs": [
        {
          "output_type": "error",
          "ename": "FileNotFoundError",
          "evalue": "[Errno 2] No such file or directory: '{root_path}/rknn_model_zoo/examples/yolov8/python/convert.py'",
          "traceback": [
            "\u001b[0;31m---------------------------------------------------------------------------\u001b[0m",
            "\u001b[0;31mFileNotFoundError\u001b[0m                         Traceback (most recent call last)",
            "\u001b[0;32m<ipython-input-18-304dbd551322>\u001b[0m in \u001b[0;36m<cell line: 0>\u001b[0;34m()\u001b[0m\n\u001b[0;32m----> 1\u001b[0;31m \u001b[0mget_ipython\u001b[0m\u001b[0;34m(\u001b[0m\u001b[0;34m)\u001b[0m\u001b[0;34m.\u001b[0m\u001b[0mrun_cell_magic\u001b[0m\u001b[0;34m(\u001b[0m\u001b[0;34m'replaceAllInFile'\u001b[0m\u001b[0;34m,\u001b[0m \u001b[0;34m'{root_path}/rknn_model_zoo/examples/yolov8/python/convert.py'\u001b[0m\u001b[0;34m,\u001b[0m \u001b[0;34m\"[\\n    ('../../../datasets/COCO/coco_subset_20.txt', 'imgs.txt'),\\n]\\n\"\u001b[0m\u001b[0;34m)\u001b[0m\u001b[0;34m\u001b[0m\u001b[0;34m\u001b[0m\u001b[0m\n\u001b[0m",
            "\u001b[0;32m/usr/local/lib/python3.11/dist-packages/google/colab/_shell.py\u001b[0m in \u001b[0;36mrun_cell_magic\u001b[0;34m(self, magic_name, line, cell)\u001b[0m\n\u001b[1;32m    356\u001b[0m     \u001b[0;32mif\u001b[0m \u001b[0mline\u001b[0m \u001b[0;32mand\u001b[0m \u001b[0;32mnot\u001b[0m \u001b[0mcell\u001b[0m\u001b[0;34m:\u001b[0m\u001b[0;34m\u001b[0m\u001b[0;34m\u001b[0m\u001b[0m\n\u001b[1;32m    357\u001b[0m       \u001b[0mcell\u001b[0m \u001b[0;34m=\u001b[0m \u001b[0;34m' '\u001b[0m\u001b[0;34m\u001b[0m\u001b[0;34m\u001b[0m\u001b[0m\n\u001b[0;32m--> 358\u001b[0;31m     \u001b[0;32mreturn\u001b[0m \u001b[0msuper\u001b[0m\u001b[0;34m(\u001b[0m\u001b[0;34m)\u001b[0m\u001b[0;34m.\u001b[0m\u001b[0mrun_cell_magic\u001b[0m\u001b[0;34m(\u001b[0m\u001b[0mmagic_name\u001b[0m\u001b[0;34m,\u001b[0m \u001b[0mline\u001b[0m\u001b[0;34m,\u001b[0m \u001b[0mcell\u001b[0m\u001b[0;34m)\u001b[0m\u001b[0;34m\u001b[0m\u001b[0;34m\u001b[0m\u001b[0m\n\u001b[0m\u001b[1;32m    359\u001b[0m \u001b[0;34m\u001b[0m\u001b[0m\n\u001b[1;32m    360\u001b[0m \u001b[0;34m\u001b[0m\u001b[0m\n",
            "\u001b[0;32m/usr/local/lib/python3.11/dist-packages/IPython/core/interactiveshell.py\u001b[0m in \u001b[0;36mrun_cell_magic\u001b[0;34m(self, magic_name, line, cell)\u001b[0m\n\u001b[1;32m   2471\u001b[0m             \u001b[0;32mwith\u001b[0m \u001b[0mself\u001b[0m\u001b[0;34m.\u001b[0m\u001b[0mbuiltin_trap\u001b[0m\u001b[0;34m:\u001b[0m\u001b[0;34m\u001b[0m\u001b[0;34m\u001b[0m\u001b[0m\n\u001b[1;32m   2472\u001b[0m                 \u001b[0margs\u001b[0m \u001b[0;34m=\u001b[0m \u001b[0;34m(\u001b[0m\u001b[0mmagic_arg_s\u001b[0m\u001b[0;34m,\u001b[0m \u001b[0mcell\u001b[0m\u001b[0;34m)\u001b[0m\u001b[0;34m\u001b[0m\u001b[0;34m\u001b[0m\u001b[0m\n\u001b[0;32m-> 2473\u001b[0;31m                 \u001b[0mresult\u001b[0m \u001b[0;34m=\u001b[0m \u001b[0mfn\u001b[0m\u001b[0;34m(\u001b[0m\u001b[0;34m*\u001b[0m\u001b[0margs\u001b[0m\u001b[0;34m,\u001b[0m \u001b[0;34m**\u001b[0m\u001b[0mkwargs\u001b[0m\u001b[0;34m)\u001b[0m\u001b[0;34m\u001b[0m\u001b[0;34m\u001b[0m\u001b[0m\n\u001b[0m\u001b[1;32m   2474\u001b[0m             \u001b[0;32mreturn\u001b[0m \u001b[0mresult\u001b[0m\u001b[0;34m\u001b[0m\u001b[0;34m\u001b[0m\u001b[0m\n\u001b[1;32m   2475\u001b[0m \u001b[0;34m\u001b[0m\u001b[0m\n",
            "\u001b[0;32m<ipython-input-7-3352d87bdec6>\u001b[0m in \u001b[0;36mreplaceAllInFile\u001b[0;34m(line, cell)\u001b[0m\n\u001b[1;32m     13\u001b[0m     \u001b[0mfilename\u001b[0m \u001b[0;34m=\u001b[0m \u001b[0mline\u001b[0m\u001b[0;34m.\u001b[0m\u001b[0mstrip\u001b[0m\u001b[0;34m(\u001b[0m\u001b[0;34m)\u001b[0m\u001b[0;34m\u001b[0m\u001b[0;34m\u001b[0m\u001b[0m\n\u001b[1;32m     14\u001b[0m     \u001b[0mreplacements\u001b[0m \u001b[0;34m=\u001b[0m \u001b[0meval\u001b[0m\u001b[0;34m(\u001b[0m\u001b[0mcell\u001b[0m\u001b[0;34m)\u001b[0m  \u001b[0;31m# Assuming input is a valid Python expression\u001b[0m\u001b[0;34m\u001b[0m\u001b[0;34m\u001b[0m\u001b[0m\n\u001b[0;32m---> 15\u001b[0;31m     \u001b[0;32mwith\u001b[0m \u001b[0mopen\u001b[0m\u001b[0;34m(\u001b[0m\u001b[0mfilename\u001b[0m\u001b[0;34m,\u001b[0m \u001b[0;34m'r'\u001b[0m\u001b[0;34m)\u001b[0m \u001b[0;32mas\u001b[0m \u001b[0mf\u001b[0m\u001b[0;34m:\u001b[0m\u001b[0;34m\u001b[0m\u001b[0;34m\u001b[0m\u001b[0m\n\u001b[0m\u001b[1;32m     16\u001b[0m         \u001b[0mfile_content\u001b[0m \u001b[0;34m=\u001b[0m \u001b[0mf\u001b[0m\u001b[0;34m.\u001b[0m\u001b[0mread\u001b[0m\u001b[0;34m(\u001b[0m\u001b[0;34m)\u001b[0m\u001b[0;34m\u001b[0m\u001b[0;34m\u001b[0m\u001b[0m\n\u001b[1;32m     17\u001b[0m     \u001b[0;32mfor\u001b[0m \u001b[0mreplaced\u001b[0m\u001b[0;34m,\u001b[0m \u001b[0mwith_this\u001b[0m \u001b[0;32min\u001b[0m \u001b[0mreplacements\u001b[0m\u001b[0;34m:\u001b[0m\u001b[0;34m\u001b[0m\u001b[0;34m\u001b[0m\u001b[0m\n",
            "\u001b[0;31mFileNotFoundError\u001b[0m: [Errno 2] No such file or directory: '{root_path}/rknn_model_zoo/examples/yolov8/python/convert.py'"
          ]
        }
      ]
    },
    {
      "cell_type": "markdown",
      "source": [
        "## Quantization\n",
        "Here you choose whether to perform quantization, which makes the model lighter and faster, by converting all 32/16 bit floates in the model into 8 bit ints, which costs performance."
      ],
      "metadata": {
        "id": "8lyeD0EnK35O"
      }
    },
    {
      "cell_type": "code",
      "source": [
        "to_quantize = True # @param {type: \"boolean\"}"
      ],
      "metadata": {
        "trusted": true,
        "id": "wHTPHWpnK35O"
      },
      "execution_count": 19,
      "outputs": []
    },
    {
      "cell_type": "markdown",
      "source": [
        "## Exporting to RKNN - Final step🎉"
      ],
      "metadata": {
        "id": "b29hlDPmK35P"
      }
    },
    {
      "cell_type": "code",
      "source": [
        "#May or may not need to run most likely don't\n",
        "\n",
        "import os\n",
        "\n",
        "# Define paths\n",
        "root_path = \"/content\"  # Change this if needed\n",
        "onnx_model_path = os.path.join(root_path, \"best.onnx\")\n",
        "ex_path = os.path.join(root_path, \"rknn_model_zoo/examples/yolov8/python\")\n",
        "output_dir = os.path.join(root_path, \"rknn_model_zoo\")  # Save inside rknn_model_zoo\n",
        "\n",
        "# Set quantization type\n",
        "to_quantize = True  # Change to False if you don't want quantization\n",
        "quant_code = \"i8\" if to_quantize else \"fp\"\n",
        "\n",
        "# Define output model path\n",
        "image_size = 640  # Change this to your required input size\n",
        "output_model = os.path.join(output_dir, f\"best-{image_size}-{quant_code}.rknn\")\n",
        "\n",
        "# Run conversion script\n",
        "os.chdir(ex_path)\n",
        "os.system(f\"python convert.py {onnx_model_path} rk3588 {quant_code} {output_model}\")\n",
        "\n",
        "print(f\"RKNN model saved at: {output_model}\")\n"
      ],
      "metadata": {
        "trusted": true,
        "colab": {
          "base_uri": "https://localhost:8080/"
        },
        "id": "ws4NJ_dIK35P",
        "outputId": "4c44a3bd-6fce-4a64-bf25-457259166d4a"
      },
      "execution_count": 20,
      "outputs": [
        {
          "output_type": "stream",
          "name": "stdout",
          "text": [
            "RKNN model saved at: /content/rknn_model_zoo/best-640-i8.rknn\n"
          ]
        }
      ]
    },
    {
      "cell_type": "code",
      "source": [
        "\n",
        "#Scripts for looking into the model zoo file for imgs.txt Collab sometimes messes this up\n",
        "!ls -lh /content/rknn_model_zoo\n"
      ],
      "metadata": {
        "colab": {
          "base_uri": "https://localhost:8080/"
        },
        "id": "NoXadzSIRhB7",
        "outputId": "ce15242b-2eed-4e67-df71-fd75ef6a092d"
      },
      "execution_count": 21,
      "outputs": [
        {
          "output_type": "stream",
          "name": "stdout",
          "text": [
            "total 92K\n",
            "drwxr-xr-x  9 root root 4.0K Feb 20 01:59 3rdparty\n",
            "-rw-r--r--  1 root root 4.6K Feb 20 01:59 build-android.sh\n",
            "-rw-r--r--  1 root root 4.6K Feb 20 01:59 build-linux.sh\n",
            "drwxr-xr-x  6 root root 4.0K Feb 20 01:59 datasets\n",
            "drwxr-xr-x 18 root root 4.0K Feb 20 01:59 examples\n",
            "-rw-r--r--  1 root root  12K Feb 20 01:59 LICENSE\n",
            "drwxr-xr-x  2 root root 4.0K Feb 20 01:59 py_utils\n",
            "-rw-r--r--  1 root root  15K Feb 20 01:59 README_CN.md\n",
            "-rw-r--r--  1 root root  16K Feb 20 01:59 README.md\n",
            "-rw-r--r--  1 root root 9.8K Feb 20 01:59 scaling_frequency.sh\n",
            "drwxr-xr-x  2 root root 4.0K Feb 20 01:59 utils\n"
          ]
        }
      ]
    },
    {
      "cell_type": "code",
      "source": [
        "#Same as above\n",
        "!find /content -name \"*.rknn\"\n",
        "\n"
      ],
      "metadata": {
        "id": "M3IrT2fpRqDm"
      },
      "execution_count": 22,
      "outputs": []
    },
    {
      "cell_type": "code",
      "source": [
        "!python /content/rknn_model_zoo/examples/yolov8/python/convert.py /content/best.onnx rk3588 i8 /content/rknn_model_zoo/best-640-i8.rknn\n"
      ],
      "metadata": {
        "colab": {
          "base_uri": "https://localhost:8080/"
        },
        "id": "YpIp9iroR0bq",
        "outputId": "4fb5a62f-6846-4efe-dca5-889271ca25ce"
      },
      "execution_count": 23,
      "outputs": [
        {
          "output_type": "stream",
          "name": "stdout",
          "text": [
            "Traceback (most recent call last):\n",
            "  File \"/content/rknn_model_zoo/examples/yolov8/python/convert.py\", line 4, in <module>\n",
            "    from rknn.api import RKNN\n",
            "ModuleNotFoundError: No module named 'rknn'\n"
          ]
        }
      ]
    },
    {
      "cell_type": "code",
      "source": [
        "#Make sure you have this installed else the error from the script above will show\n",
        "!pip install --upgrade rknn-toolkit2\n"
      ],
      "metadata": {
        "colab": {
          "base_uri": "https://localhost:8080/",
          "height": 1000
        },
        "id": "dqpjref7R7Rg",
        "outputId": "65b7d2d1-d4f2-47dd-b228-92b6614038f9"
      },
      "execution_count": 24,
      "outputs": [
        {
          "output_type": "stream",
          "name": "stdout",
          "text": [
            "Collecting rknn-toolkit2\n",
            "  Downloading rknn_toolkit2-2.3.0-cp311-cp311-manylinux_2_17_x86_64.manylinux2014_x86_64.whl.metadata (1.4 kB)\n",
            "Collecting protobuf<=4.25.4,>=4.21.6 (from rknn-toolkit2)\n",
            "  Downloading protobuf-4.25.4-cp37-abi3-manylinux2014_x86_64.whl.metadata (541 bytes)\n",
            "Requirement already satisfied: psutil>=5.9.0 in /usr/local/lib/python3.11/dist-packages (from rknn-toolkit2) (5.9.5)\n",
            "Collecting ruamel.yaml>=0.17.21 (from rknn-toolkit2)\n",
            "  Downloading ruamel.yaml-0.18.10-py3-none-any.whl.metadata (23 kB)\n",
            "Requirement already satisfied: scipy>=1.9.3 in /usr/local/lib/python3.11/dist-packages (from rknn-toolkit2) (1.13.1)\n",
            "Requirement already satisfied: tqdm>=4.64.1 in /usr/local/lib/python3.11/dist-packages (from rknn-toolkit2) (4.67.1)\n",
            "Requirement already satisfied: opencv-python>=4.5.5.64 in /usr/local/lib/python3.11/dist-packages (from rknn-toolkit2) (4.11.0.86)\n",
            "Collecting fast-histogram>=0.11 (from rknn-toolkit2)\n",
            "  Downloading fast_histogram-0.14-cp39-abi3-manylinux_2_5_x86_64.manylinux1_x86_64.manylinux_2_17_x86_64.manylinux2014_x86_64.whl.metadata (6.8 kB)\n",
            "Requirement already satisfied: numpy<=1.26.4 in /usr/local/lib/python3.11/dist-packages (from rknn-toolkit2) (1.26.4)\n",
            "Collecting onnx>=1.10.0 (from rknn-toolkit2)\n",
            "  Downloading onnx-1.17.0-cp311-cp311-manylinux_2_17_x86_64.manylinux2014_x86_64.whl.metadata (16 kB)\n",
            "Collecting onnxruntime>=1.15.0 (from rknn-toolkit2)\n",
            "  Downloading onnxruntime-1.20.1-cp311-cp311-manylinux_2_27_x86_64.manylinux_2_28_x86_64.whl.metadata (4.5 kB)\n",
            "Collecting torch<=2.4.0,>=1.10.1 (from rknn-toolkit2)\n",
            "  Downloading torch-2.4.0-cp311-cp311-manylinux1_x86_64.whl.metadata (26 kB)\n",
            "Collecting coloredlogs (from onnxruntime>=1.15.0->rknn-toolkit2)\n",
            "  Downloading coloredlogs-15.0.1-py2.py3-none-any.whl.metadata (12 kB)\n",
            "Requirement already satisfied: flatbuffers in /usr/local/lib/python3.11/dist-packages (from onnxruntime>=1.15.0->rknn-toolkit2) (25.2.10)\n",
            "Requirement already satisfied: packaging in /usr/local/lib/python3.11/dist-packages (from onnxruntime>=1.15.0->rknn-toolkit2) (24.2)\n",
            "Requirement already satisfied: sympy in /usr/local/lib/python3.11/dist-packages (from onnxruntime>=1.15.0->rknn-toolkit2) (1.13.1)\n",
            "Collecting ruamel.yaml.clib>=0.2.7 (from ruamel.yaml>=0.17.21->rknn-toolkit2)\n",
            "  Downloading ruamel.yaml.clib-0.2.12-cp311-cp311-manylinux_2_17_x86_64.manylinux2014_x86_64.whl.metadata (2.7 kB)\n",
            "Requirement already satisfied: filelock in /usr/local/lib/python3.11/dist-packages (from torch<=2.4.0,>=1.10.1->rknn-toolkit2) (3.17.0)\n",
            "Requirement already satisfied: typing-extensions>=4.8.0 in /usr/local/lib/python3.11/dist-packages (from torch<=2.4.0,>=1.10.1->rknn-toolkit2) (4.12.2)\n",
            "Requirement already satisfied: networkx in /usr/local/lib/python3.11/dist-packages (from torch<=2.4.0,>=1.10.1->rknn-toolkit2) (3.4.2)\n",
            "Requirement already satisfied: jinja2 in /usr/local/lib/python3.11/dist-packages (from torch<=2.4.0,>=1.10.1->rknn-toolkit2) (3.1.5)\n",
            "Requirement already satisfied: fsspec in /usr/local/lib/python3.11/dist-packages (from torch<=2.4.0,>=1.10.1->rknn-toolkit2) (2024.10.0)\n",
            "Collecting nvidia-cuda-nvrtc-cu12==12.1.105 (from torch<=2.4.0,>=1.10.1->rknn-toolkit2)\n",
            "  Downloading nvidia_cuda_nvrtc_cu12-12.1.105-py3-none-manylinux1_x86_64.whl.metadata (1.5 kB)\n",
            "Collecting nvidia-cuda-runtime-cu12==12.1.105 (from torch<=2.4.0,>=1.10.1->rknn-toolkit2)\n",
            "  Downloading nvidia_cuda_runtime_cu12-12.1.105-py3-none-manylinux1_x86_64.whl.metadata (1.5 kB)\n",
            "Collecting nvidia-cuda-cupti-cu12==12.1.105 (from torch<=2.4.0,>=1.10.1->rknn-toolkit2)\n",
            "  Downloading nvidia_cuda_cupti_cu12-12.1.105-py3-none-manylinux1_x86_64.whl.metadata (1.6 kB)\n",
            "Requirement already satisfied: nvidia-cudnn-cu12==9.1.0.70 in /usr/local/lib/python3.11/dist-packages (from torch<=2.4.0,>=1.10.1->rknn-toolkit2) (9.1.0.70)\n",
            "Collecting nvidia-cublas-cu12==12.1.3.1 (from torch<=2.4.0,>=1.10.1->rknn-toolkit2)\n",
            "  Downloading nvidia_cublas_cu12-12.1.3.1-py3-none-manylinux1_x86_64.whl.metadata (1.5 kB)\n",
            "Collecting nvidia-cufft-cu12==11.0.2.54 (from torch<=2.4.0,>=1.10.1->rknn-toolkit2)\n",
            "  Downloading nvidia_cufft_cu12-11.0.2.54-py3-none-manylinux1_x86_64.whl.metadata (1.5 kB)\n",
            "Collecting nvidia-curand-cu12==10.3.2.106 (from torch<=2.4.0,>=1.10.1->rknn-toolkit2)\n",
            "  Downloading nvidia_curand_cu12-10.3.2.106-py3-none-manylinux1_x86_64.whl.metadata (1.5 kB)\n",
            "Collecting nvidia-cusolver-cu12==11.4.5.107 (from torch<=2.4.0,>=1.10.1->rknn-toolkit2)\n",
            "  Downloading nvidia_cusolver_cu12-11.4.5.107-py3-none-manylinux1_x86_64.whl.metadata (1.6 kB)\n",
            "Collecting nvidia-cusparse-cu12==12.1.0.106 (from torch<=2.4.0,>=1.10.1->rknn-toolkit2)\n",
            "  Downloading nvidia_cusparse_cu12-12.1.0.106-py3-none-manylinux1_x86_64.whl.metadata (1.6 kB)\n",
            "Collecting nvidia-nccl-cu12==2.20.5 (from torch<=2.4.0,>=1.10.1->rknn-toolkit2)\n",
            "  Downloading nvidia_nccl_cu12-2.20.5-py3-none-manylinux2014_x86_64.whl.metadata (1.8 kB)\n",
            "Collecting nvidia-nvtx-cu12==12.1.105 (from torch<=2.4.0,>=1.10.1->rknn-toolkit2)\n",
            "  Downloading nvidia_nvtx_cu12-12.1.105-py3-none-manylinux1_x86_64.whl.metadata (1.7 kB)\n",
            "Collecting triton==3.0.0 (from torch<=2.4.0,>=1.10.1->rknn-toolkit2)\n",
            "  Downloading triton-3.0.0-1-cp311-cp311-manylinux2014_x86_64.manylinux_2_17_x86_64.whl.metadata (1.3 kB)\n",
            "Requirement already satisfied: nvidia-nvjitlink-cu12 in /usr/local/lib/python3.11/dist-packages (from nvidia-cusolver-cu12==11.4.5.107->torch<=2.4.0,>=1.10.1->rknn-toolkit2) (12.4.127)\n",
            "Collecting humanfriendly>=9.1 (from coloredlogs->onnxruntime>=1.15.0->rknn-toolkit2)\n",
            "  Downloading humanfriendly-10.0-py2.py3-none-any.whl.metadata (9.2 kB)\n",
            "Requirement already satisfied: MarkupSafe>=2.0 in /usr/local/lib/python3.11/dist-packages (from jinja2->torch<=2.4.0,>=1.10.1->rknn-toolkit2) (3.0.2)\n",
            "Requirement already satisfied: mpmath<1.4,>=1.1.0 in /usr/local/lib/python3.11/dist-packages (from sympy->onnxruntime>=1.15.0->rknn-toolkit2) (1.3.0)\n",
            "Downloading rknn_toolkit2-2.3.0-cp311-cp311-manylinux_2_17_x86_64.manylinux2014_x86_64.whl (38.3 MB)\n",
            "\u001b[2K   \u001b[90m━━━━━━━━━━━━━━━━━━━━━━━━━━━━━━━━━━━━━━━━\u001b[0m \u001b[32m38.3/38.3 MB\u001b[0m \u001b[31m14.0 MB/s\u001b[0m eta \u001b[36m0:00:00\u001b[0m\n",
            "\u001b[?25hDownloading fast_histogram-0.14-cp39-abi3-manylinux_2_5_x86_64.manylinux1_x86_64.manylinux_2_17_x86_64.manylinux2014_x86_64.whl (55 kB)\n",
            "\u001b[2K   \u001b[90m━━━━━━━━━━━━━━━━━━━━━━━━━━━━━━━━━━━━━━━━\u001b[0m \u001b[32m55.4/55.4 kB\u001b[0m \u001b[31m4.7 MB/s\u001b[0m eta \u001b[36m0:00:00\u001b[0m\n",
            "\u001b[?25hDownloading onnx-1.17.0-cp311-cp311-manylinux_2_17_x86_64.manylinux2014_x86_64.whl (16.0 MB)\n",
            "\u001b[2K   \u001b[90m━━━━━━━━━━━━━━━━━━━━━━━━━━━━━━━━━━━━━━━━\u001b[0m \u001b[32m16.0/16.0 MB\u001b[0m \u001b[31m73.5 MB/s\u001b[0m eta \u001b[36m0:00:00\u001b[0m\n",
            "\u001b[?25hDownloading onnxruntime-1.20.1-cp311-cp311-manylinux_2_27_x86_64.manylinux_2_28_x86_64.whl (13.3 MB)\n",
            "\u001b[2K   \u001b[90m━━━━━━━━━━━━━━━━━━━━━━━━━━━━━━━━━━━━━━━━\u001b[0m \u001b[32m13.3/13.3 MB\u001b[0m \u001b[31m72.2 MB/s\u001b[0m eta \u001b[36m0:00:00\u001b[0m\n",
            "\u001b[?25hDownloading protobuf-4.25.4-cp37-abi3-manylinux2014_x86_64.whl (294 kB)\n",
            "\u001b[2K   \u001b[90m━━━━━━━━━━━━━━━━━━━━━━━━━━━━━━━━━━━━━━━━\u001b[0m \u001b[32m294.6/294.6 kB\u001b[0m \u001b[31m23.6 MB/s\u001b[0m eta \u001b[36m0:00:00\u001b[0m\n",
            "\u001b[?25hDownloading ruamel.yaml-0.18.10-py3-none-any.whl (117 kB)\n",
            "\u001b[2K   \u001b[90m━━━━━━━━━━━━━━━━━━━━━━━━━━━━━━━━━━━━━━━━\u001b[0m \u001b[32m117.7/117.7 kB\u001b[0m \u001b[31m10.7 MB/s\u001b[0m eta \u001b[36m0:00:00\u001b[0m\n",
            "\u001b[?25hDownloading torch-2.4.0-cp311-cp311-manylinux1_x86_64.whl (797.3 MB)\n",
            "\u001b[2K   \u001b[90m━━━━━━━━━━━━━━━━━━━━━━━━━━━━━━━━━━━━━━━━\u001b[0m \u001b[32m797.3/797.3 MB\u001b[0m \u001b[31m2.5 MB/s\u001b[0m eta \u001b[36m0:00:00\u001b[0m\n",
            "\u001b[?25hDownloading nvidia_cublas_cu12-12.1.3.1-py3-none-manylinux1_x86_64.whl (410.6 MB)\n",
            "\u001b[2K   \u001b[90m━━━━━━━━━━━━━━━━━━━━━━━━━━━━━━━━━━━━━━━━\u001b[0m \u001b[32m410.6/410.6 MB\u001b[0m \u001b[31m3.9 MB/s\u001b[0m eta \u001b[36m0:00:00\u001b[0m\n",
            "\u001b[?25hDownloading nvidia_cuda_cupti_cu12-12.1.105-py3-none-manylinux1_x86_64.whl (14.1 MB)\n",
            "\u001b[2K   \u001b[90m━━━━━━━━━━━━━━━━━━━━━━━━━━━━━━━━━━━━━━━━\u001b[0m \u001b[32m14.1/14.1 MB\u001b[0m \u001b[31m52.8 MB/s\u001b[0m eta \u001b[36m0:00:00\u001b[0m\n",
            "\u001b[?25hDownloading nvidia_cuda_nvrtc_cu12-12.1.105-py3-none-manylinux1_x86_64.whl (23.7 MB)\n",
            "\u001b[2K   \u001b[90m━━━━━━━━━━━━━━━━━━━━━━━━━━━━━━━━━━━━━━━━\u001b[0m \u001b[32m23.7/23.7 MB\u001b[0m \u001b[31m23.5 MB/s\u001b[0m eta \u001b[36m0:00:00\u001b[0m\n",
            "\u001b[?25hDownloading nvidia_cuda_runtime_cu12-12.1.105-py3-none-manylinux1_x86_64.whl (823 kB)\n",
            "\u001b[2K   \u001b[90m━━━━━━━━━━━━━━━━━━━━━━━━━━━━━━━━━━━━━━━━\u001b[0m \u001b[32m823.6/823.6 kB\u001b[0m \u001b[31m43.6 MB/s\u001b[0m eta \u001b[36m0:00:00\u001b[0m\n",
            "\u001b[?25hDownloading nvidia_cufft_cu12-11.0.2.54-py3-none-manylinux1_x86_64.whl (121.6 MB)\n",
            "\u001b[2K   \u001b[90m━━━━━━━━━━━━━━━━━━━━━━━━━━━━━━━━━━━━━━━━\u001b[0m \u001b[32m121.6/121.6 MB\u001b[0m \u001b[31m7.5 MB/s\u001b[0m eta \u001b[36m0:00:00\u001b[0m\n",
            "\u001b[?25hDownloading nvidia_curand_cu12-10.3.2.106-py3-none-manylinux1_x86_64.whl (56.5 MB)\n",
            "\u001b[2K   \u001b[90m━━━━━━━━━━━━━━━━━━━━━━━━━━━━━━━━━━━━━━━━\u001b[0m \u001b[32m56.5/56.5 MB\u001b[0m \u001b[31m14.7 MB/s\u001b[0m eta \u001b[36m0:00:00\u001b[0m\n",
            "\u001b[?25hDownloading nvidia_cusolver_cu12-11.4.5.107-py3-none-manylinux1_x86_64.whl (124.2 MB)\n",
            "\u001b[2K   \u001b[90m━━━━━━━━━━━━━━━━━━━━━━━━━━━━━━━━━━━━━━━━\u001b[0m \u001b[32m124.2/124.2 MB\u001b[0m \u001b[31m7.5 MB/s\u001b[0m eta \u001b[36m0:00:00\u001b[0m\n",
            "\u001b[?25hDownloading nvidia_cusparse_cu12-12.1.0.106-py3-none-manylinux1_x86_64.whl (196.0 MB)\n",
            "\u001b[2K   \u001b[90m━━━━━━━━━━━━━━━━━━━━━━━━━━━━━━━━━━━━━━━━\u001b[0m \u001b[32m196.0/196.0 MB\u001b[0m \u001b[31m6.4 MB/s\u001b[0m eta \u001b[36m0:00:00\u001b[0m\n",
            "\u001b[?25hDownloading nvidia_nccl_cu12-2.20.5-py3-none-manylinux2014_x86_64.whl (176.2 MB)\n",
            "\u001b[2K   \u001b[90m━━━━━━━━━━━━━━━━━━━━━━━━━━━━━━━━━━━━━━━━\u001b[0m \u001b[32m176.2/176.2 MB\u001b[0m \u001b[31m6.3 MB/s\u001b[0m eta \u001b[36m0:00:00\u001b[0m\n",
            "\u001b[?25hDownloading nvidia_nvtx_cu12-12.1.105-py3-none-manylinux1_x86_64.whl (99 kB)\n",
            "\u001b[2K   \u001b[90m━━━━━━━━━━━━━━━━━━━━━━━━━━━━━━━━━━━━━━━━\u001b[0m \u001b[32m99.1/99.1 kB\u001b[0m \u001b[31m8.9 MB/s\u001b[0m eta \u001b[36m0:00:00\u001b[0m\n",
            "\u001b[?25hDownloading triton-3.0.0-1-cp311-cp311-manylinux2014_x86_64.manylinux_2_17_x86_64.whl (209.4 MB)\n",
            "\u001b[2K   \u001b[90m━━━━━━━━━━━━━━━━━━━━━━━━━━━━━━━━━━━━━━━━\u001b[0m \u001b[32m209.4/209.4 MB\u001b[0m \u001b[31m6.2 MB/s\u001b[0m eta \u001b[36m0:00:00\u001b[0m\n",
            "\u001b[?25hDownloading ruamel.yaml.clib-0.2.12-cp311-cp311-manylinux_2_17_x86_64.manylinux2014_x86_64.whl (739 kB)\n",
            "\u001b[2K   \u001b[90m━━━━━━━━━━━━━━━━━━━━━━━━━━━━━━━━━━━━━━━━\u001b[0m \u001b[32m739.1/739.1 kB\u001b[0m \u001b[31m47.2 MB/s\u001b[0m eta \u001b[36m0:00:00\u001b[0m\n",
            "\u001b[?25hDownloading coloredlogs-15.0.1-py2.py3-none-any.whl (46 kB)\n",
            "\u001b[2K   \u001b[90m━━━━━━━━━━━━━━━━━━━━━━━━━━━━━━━━━━━━━━━━\u001b[0m \u001b[32m46.0/46.0 kB\u001b[0m \u001b[31m4.1 MB/s\u001b[0m eta \u001b[36m0:00:00\u001b[0m\n",
            "\u001b[?25hDownloading humanfriendly-10.0-py2.py3-none-any.whl (86 kB)\n",
            "\u001b[2K   \u001b[90m━━━━━━━━━━━━━━━━━━━━━━━━━━━━━━━━━━━━━━━━\u001b[0m \u001b[32m86.8/86.8 kB\u001b[0m \u001b[31m8.3 MB/s\u001b[0m eta \u001b[36m0:00:00\u001b[0m\n",
            "\u001b[?25hInstalling collected packages: triton, ruamel.yaml.clib, protobuf, nvidia-nvtx-cu12, nvidia-nccl-cu12, nvidia-cusparse-cu12, nvidia-curand-cu12, nvidia-cufft-cu12, nvidia-cuda-runtime-cu12, nvidia-cuda-nvrtc-cu12, nvidia-cuda-cupti-cu12, nvidia-cublas-cu12, humanfriendly, fast-histogram, ruamel.yaml, onnx, nvidia-cusolver-cu12, coloredlogs, torch, onnxruntime, rknn-toolkit2\n",
            "  Attempting uninstall: triton\n",
            "    Found existing installation: triton 3.1.0\n",
            "    Uninstalling triton-3.1.0:\n",
            "      Successfully uninstalled triton-3.1.0\n",
            "  Attempting uninstall: protobuf\n",
            "    Found existing installation: protobuf 4.25.6\n",
            "    Uninstalling protobuf-4.25.6:\n",
            "      Successfully uninstalled protobuf-4.25.6\n",
            "  Attempting uninstall: nvidia-nvtx-cu12\n",
            "    Found existing installation: nvidia-nvtx-cu12 12.4.127\n",
            "    Uninstalling nvidia-nvtx-cu12-12.4.127:\n",
            "      Successfully uninstalled nvidia-nvtx-cu12-12.4.127\n",
            "  Attempting uninstall: nvidia-nccl-cu12\n",
            "    Found existing installation: nvidia-nccl-cu12 2.21.5\n",
            "    Uninstalling nvidia-nccl-cu12-2.21.5:\n",
            "      Successfully uninstalled nvidia-nccl-cu12-2.21.5\n",
            "  Attempting uninstall: nvidia-cusparse-cu12\n",
            "    Found existing installation: nvidia-cusparse-cu12 12.3.1.170\n",
            "    Uninstalling nvidia-cusparse-cu12-12.3.1.170:\n",
            "      Successfully uninstalled nvidia-cusparse-cu12-12.3.1.170\n",
            "  Attempting uninstall: nvidia-curand-cu12\n",
            "    Found existing installation: nvidia-curand-cu12 10.3.5.147\n",
            "    Uninstalling nvidia-curand-cu12-10.3.5.147:\n",
            "      Successfully uninstalled nvidia-curand-cu12-10.3.5.147\n",
            "  Attempting uninstall: nvidia-cufft-cu12\n",
            "    Found existing installation: nvidia-cufft-cu12 11.2.1.3\n",
            "    Uninstalling nvidia-cufft-cu12-11.2.1.3:\n",
            "      Successfully uninstalled nvidia-cufft-cu12-11.2.1.3\n",
            "  Attempting uninstall: nvidia-cuda-runtime-cu12\n",
            "    Found existing installation: nvidia-cuda-runtime-cu12 12.4.127\n",
            "    Uninstalling nvidia-cuda-runtime-cu12-12.4.127:\n",
            "      Successfully uninstalled nvidia-cuda-runtime-cu12-12.4.127\n",
            "  Attempting uninstall: nvidia-cuda-nvrtc-cu12\n",
            "    Found existing installation: nvidia-cuda-nvrtc-cu12 12.4.127\n",
            "    Uninstalling nvidia-cuda-nvrtc-cu12-12.4.127:\n",
            "      Successfully uninstalled nvidia-cuda-nvrtc-cu12-12.4.127\n",
            "  Attempting uninstall: nvidia-cuda-cupti-cu12\n",
            "    Found existing installation: nvidia-cuda-cupti-cu12 12.4.127\n",
            "    Uninstalling nvidia-cuda-cupti-cu12-12.4.127:\n",
            "      Successfully uninstalled nvidia-cuda-cupti-cu12-12.4.127\n",
            "  Attempting uninstall: nvidia-cublas-cu12\n",
            "    Found existing installation: nvidia-cublas-cu12 12.4.5.8\n",
            "    Uninstalling nvidia-cublas-cu12-12.4.5.8:\n",
            "      Successfully uninstalled nvidia-cublas-cu12-12.4.5.8\n",
            "  Attempting uninstall: nvidia-cusolver-cu12\n",
            "    Found existing installation: nvidia-cusolver-cu12 11.6.1.9\n",
            "    Uninstalling nvidia-cusolver-cu12-11.6.1.9:\n",
            "      Successfully uninstalled nvidia-cusolver-cu12-11.6.1.9\n",
            "  Attempting uninstall: torch\n",
            "    Found existing installation: torch 2.5.1+cu124\n",
            "    Uninstalling torch-2.5.1+cu124:\n",
            "      Successfully uninstalled torch-2.5.1+cu124\n",
            "\u001b[31mERROR: pip's dependency resolver does not currently take into account all the packages that are installed. This behaviour is the source of the following dependency conflicts.\n",
            "torchvision 0.20.1+cu124 requires torch==2.5.1, but you have torch 2.4.0 which is incompatible.\n",
            "torchaudio 2.5.1+cu124 requires torch==2.5.1, but you have torch 2.4.0 which is incompatible.\u001b[0m\u001b[31m\n",
            "\u001b[0mSuccessfully installed coloredlogs-15.0.1 fast-histogram-0.14 humanfriendly-10.0 nvidia-cublas-cu12-12.1.3.1 nvidia-cuda-cupti-cu12-12.1.105 nvidia-cuda-nvrtc-cu12-12.1.105 nvidia-cuda-runtime-cu12-12.1.105 nvidia-cufft-cu12-11.0.2.54 nvidia-curand-cu12-10.3.2.106 nvidia-cusolver-cu12-11.4.5.107 nvidia-cusparse-cu12-12.1.0.106 nvidia-nccl-cu12-2.20.5 nvidia-nvtx-cu12-12.1.105 onnx-1.17.0 onnxruntime-1.20.1 protobuf-4.25.4 rknn-toolkit2-2.3.0 ruamel.yaml-0.18.10 ruamel.yaml.clib-0.2.12 torch-2.4.0 triton-3.0.0\n"
          ]
        },
        {
          "output_type": "display_data",
          "data": {
            "application/vnd.colab-display-data+json": {
              "pip_warning": {
                "packages": [
                  "torch",
                  "torchgen",
                  "triton"
                ]
              },
              "id": "c4cc42bdd07c40528c7222ebeb6c178f"
            }
          },
          "metadata": {}
        }
      ]
    },
    {
      "cell_type": "code",
      "source": [
        "#if you have errors with imgs.txt this won't work else it will (Update this won't work just keep running scripts after)\n",
        "!python /content/rknn_model_zoo/examples/yolov8/python/convert.py /content/onnxmodel2.onnx rk3588 i8 /content/rknn_model_zoo/best-640-i8.rknn\n"
      ],
      "metadata": {
        "colab": {
          "base_uri": "https://localhost:8080/"
        },
        "id": "-ifz3niWSwDZ",
        "outputId": "3ef01731-a702-4329-b439-2e680029cafb"
      },
      "execution_count": 4,
      "outputs": [
        {
          "output_type": "stream",
          "name": "stdout",
          "text": [
            "I rknn-toolkit2 version: 2.3.0\n",
            "--> Config model\n",
            "done\n",
            "--> Loading model\n",
            "I Loading : 100%|██████████████████████████████████████████████| 126/126 [00:00<00:00, 23490.19it/s]\n",
            "done\n",
            "--> Building model\n",
            "\u001b[1;31mE\u001b[0m \u001b[1;31mbuild: Dataset file ../../../datasets/COCO/coco_subset_20.txt not found!\u001b[0m\n",
            "Build model failed!\n"
          ]
        }
      ]
    },
    {
      "cell_type": "code",
      "source": [
        "#Make sure imgs.txt is where you want it to be\n",
        "!ls -lh /content/rknn_model_zoo/examples/yolov8/python/imgs.txt\n"
      ],
      "metadata": {
        "colab": {
          "base_uri": "https://localhost:8080/"
        },
        "id": "SILphibxT0Ya",
        "outputId": "7b03ffaf-13b1-4edd-e3ca-f11128125f80"
      },
      "execution_count": 5,
      "outputs": [
        {
          "output_type": "stream",
          "name": "stdout",
          "text": [
            "-rw-r--r-- 1 root root 231 Feb 20 02:00 /content/rknn_model_zoo/examples/yolov8/python/imgs.txt\n"
          ]
        }
      ]
    },
    {
      "cell_type": "code",
      "source": [
        "\n",
        "!pwd\n"
      ],
      "metadata": {
        "colab": {
          "base_uri": "https://localhost:8080/"
        },
        "id": "UDa8LM3-T28A",
        "outputId": "97c32de1-cabf-419c-e146-a9f3640c0ebf"
      },
      "execution_count": 6,
      "outputs": [
        {
          "output_type": "stream",
          "name": "stdout",
          "text": [
            "/content\n"
          ]
        }
      ]
    },
    {
      "cell_type": "code",
      "source": [
        "import os\n",
        "os.chdir(\"/content/rknn_model_zoo/examples/yolov8/python\")\n"
      ],
      "metadata": {
        "id": "k2wZyz2cUBh2"
      },
      "execution_count": 7,
      "outputs": []
    },
    {
      "cell_type": "code",
      "source": [
        "#Same thing\n",
        "!ls -lh /content/rknn_model_zoo/examples/yolov8/python/imgs.txt\n"
      ],
      "metadata": {
        "colab": {
          "base_uri": "https://localhost:8080/"
        },
        "id": "6K1KM2s5UElP",
        "outputId": "beca550b-b156-4b12-f760-33946f066554"
      },
      "execution_count": 8,
      "outputs": [
        {
          "output_type": "stream",
          "name": "stdout",
          "text": [
            "-rw-r--r-- 1 root root 231 Feb 20 02:00 /content/rknn_model_zoo/examples/yolov8/python/imgs.txt\n"
          ]
        }
      ]
    },
    {
      "cell_type": "code",
      "source": [
        "#If Imgs.txt does not have any errors and it is in /content/rknn_model_zoo/examples/yolov8/python/imgs.textThis will work and train Make sure to rename model to have .onnx and put the right name here\n",
        "!python /content/rknn_model_zoo/examples/yolov8/python/convert.py /content/onnxmodel2.onnx rk3588 i8 /content/rknn_model_zoo/best-640-i8.rknn\n"
      ],
      "metadata": {
        "colab": {
          "base_uri": "https://localhost:8080/"
        },
        "id": "E_sqDN2vUHwY",
        "outputId": "840f2474-374b-4499-ed56-57163949e372"
      },
      "execution_count": 11,
      "outputs": [
        {
          "output_type": "stream",
          "name": "stdout",
          "text": [
            "I rknn-toolkit2 version: 2.3.0\n",
            "--> Config model\n",
            "done\n",
            "--> Loading model\n",
            "\rI Loading :   0%|                                                           | 0/126 [00:00<?, ?it/s]\rI Loading : 100%|██████████████████████████████████████████████| 126/126 [00:00<00:00, 26870.16it/s]\n",
            "done\n",
            "--> Building model\n",
            "I OpFusing 0: 100%|█████████████████████████████████████████████| 100/100 [00:00<00:00, 1165.88it/s]\n",
            "I OpFusing 1 : 100%|█████████████████████████████████████████████| 100/100 [00:00<00:00, 458.14it/s]\n",
            "I OpFusing 0 : 100%|█████████████████████████████████████████████| 100/100 [00:00<00:00, 258.17it/s]\n",
            "I OpFusing 1 : 100%|█████████████████████████████████████████████| 100/100 [00:00<00:00, 238.41it/s]\n",
            "I OpFusing 2 : 100%|█████████████████████████████████████████████| 100/100 [00:00<00:00, 228.68it/s]\n",
            "I OpFusing 0 : 100%|█████████████████████████████████████████████| 100/100 [00:00<00:00, 164.78it/s]\n",
            "I OpFusing 1 : 100%|█████████████████████████████████████████████| 100/100 [00:00<00:00, 153.69it/s]\n",
            "I OpFusing 2 : 100%|██████████████████████████████████████████████| 100/100 [00:01<00:00, 88.54it/s]\n",
            "I GraphPreparing : 100%|████████████████████████████████████████| 161/161 [00:00<00:00, 7508.90it/s]\n",
            "I Quantizating : 100%|████████████████████████████████████████████| 161/161 [00:07<00:00, 22.80it/s]\n",
            "\u001b[1;33mW\u001b[0m \u001b[1;33mbuild: The default input dtype of 'images' is changed from 'float32' to 'int8' in rknn model for performance!\n",
            "                       Please take care of this change when deploy rknn model with Runtime API!\u001b[0m\n",
            "\u001b[1;33mW\u001b[0m \u001b[1;33mbuild: The default output dtype of '318' is changed from 'float32' to 'int8' in rknn model for performance!\n",
            "                      Please take care of this change when deploy rknn model with Runtime API!\u001b[0m\n",
            "\u001b[1;33mW\u001b[0m \u001b[1;33mbuild: The default output dtype of 'onnx::ReduceSum_326' is changed from 'float32' to 'int8' in rknn model for performance!\n",
            "                      Please take care of this change when deploy rknn model with Runtime API!\u001b[0m\n",
            "\u001b[1;33mW\u001b[0m \u001b[1;33mbuild: The default output dtype of '331' is changed from 'float32' to 'int8' in rknn model for performance!\n",
            "                      Please take care of this change when deploy rknn model with Runtime API!\u001b[0m\n",
            "\u001b[1;33mW\u001b[0m \u001b[1;33mbuild: The default output dtype of '338' is changed from 'float32' to 'int8' in rknn model for performance!\n",
            "                      Please take care of this change when deploy rknn model with Runtime API!\u001b[0m\n",
            "\u001b[1;33mW\u001b[0m \u001b[1;33mbuild: The default output dtype of 'onnx::ReduceSum_346' is changed from 'float32' to 'int8' in rknn model for performance!\n",
            "                      Please take care of this change when deploy rknn model with Runtime API!\u001b[0m\n",
            "\u001b[1;33mW\u001b[0m \u001b[1;33mbuild: The default output dtype of '350' is changed from 'float32' to 'int8' in rknn model for performance!\n",
            "                      Please take care of this change when deploy rknn model with Runtime API!\u001b[0m\n",
            "\u001b[1;33mW\u001b[0m \u001b[1;33mbuild: The default output dtype of '357' is changed from 'float32' to 'int8' in rknn model for performance!\n",
            "                      Please take care of this change when deploy rknn model with Runtime API!\u001b[0m\n",
            "\u001b[1;33mW\u001b[0m \u001b[1;33mbuild: The default output dtype of 'onnx::ReduceSum_365' is changed from 'float32' to 'int8' in rknn model for performance!\n",
            "                      Please take care of this change when deploy rknn model with Runtime API!\u001b[0m\n",
            "\u001b[1;33mW\u001b[0m \u001b[1;33mbuild: The default output dtype of '369' is changed from 'float32' to 'int8' in rknn model for performance!\n",
            "                      Please take care of this change when deploy rknn model with Runtime API!\u001b[0m\n",
            "I rknn building ...\n",
            "I rknn building done.\n",
            "done\n",
            "--> Export rknn model\n",
            "done\n"
          ]
        }
      ]
    }
  ]
}